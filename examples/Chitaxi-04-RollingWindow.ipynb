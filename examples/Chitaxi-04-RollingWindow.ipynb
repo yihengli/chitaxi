{
 "cells": [
  {
   "cell_type": "code",
   "execution_count": 2,
   "metadata": {
    "ExecuteTime": {
     "end_time": "2018-10-12T22:37:24.551052Z",
     "start_time": "2018-10-12T22:37:20.091035Z"
    }
   },
   "outputs": [],
   "source": [
    "import pandas as pd\n",
    "import numpy as np\n",
    "import sklearn\n",
    "import matplotlib as mpl\n",
    "import matplotlib.pyplot as plt\n",
    "import seaborn as sns\n",
    "\n",
    "from statsmodels.tsa.ar_model import AR\n",
    "\n",
    "from chitaxi.datasets import loader, builder\n",
    "\n",
    "# %config InlineBackend.figure_format = 'svg'\n",
    "%load_ext autoreload\n",
    "%autoreload 2\n",
    "plt.style.use('seaborn')\n",
    "mpl.rcParams['legend.frameon'] = True\n",
    "mpl.rcParams['legend.facecolor'] = 'w'\n",
    "\n",
    "from sklearn.model_selection import cross_validate, train_test_split\n",
    "from sklearn.linear_model import LinearRegression\n",
    "from sklearn.metrics import make_scorer, mean_squared_error, mean_absolute_error"
   ]
  },
  {
   "cell_type": "code",
   "execution_count": 3,
   "metadata": {
    "ExecuteTime": {
     "end_time": "2018-10-12T22:37:25.157354Z",
     "start_time": "2018-10-12T22:37:24.555393Z"
    }
   },
   "outputs": [
    {
     "data": {
      "text/html": [
       "<div>\n",
       "<style scoped>\n",
       "    .dataframe tbody tr th:only-of-type {\n",
       "        vertical-align: middle;\n",
       "    }\n",
       "\n",
       "    .dataframe tbody tr th {\n",
       "        vertical-align: top;\n",
       "    }\n",
       "\n",
       "    .dataframe thead th {\n",
       "        text-align: right;\n",
       "    }\n",
       "</style>\n",
       "<table border=\"1\" class=\"dataframe\">\n",
       "  <thead>\n",
       "    <tr style=\"text-align: right;\">\n",
       "      <th></th>\n",
       "      <th>1</th>\n",
       "      <th>2</th>\n",
       "      <th>3</th>\n",
       "      <th>4</th>\n",
       "      <th>5</th>\n",
       "      <th>6</th>\n",
       "      <th>7</th>\n",
       "      <th>8</th>\n",
       "      <th>9</th>\n",
       "      <th>10</th>\n",
       "      <th>...</th>\n",
       "      <th>15</th>\n",
       "      <th>16</th>\n",
       "      <th>17</th>\n",
       "      <th>18</th>\n",
       "      <th>19</th>\n",
       "      <th>20</th>\n",
       "      <th>21</th>\n",
       "      <th>22</th>\n",
       "      <th>23</th>\n",
       "      <th>24</th>\n",
       "    </tr>\n",
       "    <tr>\n",
       "      <th>taxi_id</th>\n",
       "      <th></th>\n",
       "      <th></th>\n",
       "      <th></th>\n",
       "      <th></th>\n",
       "      <th></th>\n",
       "      <th></th>\n",
       "      <th></th>\n",
       "      <th></th>\n",
       "      <th></th>\n",
       "      <th></th>\n",
       "      <th></th>\n",
       "      <th></th>\n",
       "      <th></th>\n",
       "      <th></th>\n",
       "      <th></th>\n",
       "      <th></th>\n",
       "      <th></th>\n",
       "      <th></th>\n",
       "      <th></th>\n",
       "      <th></th>\n",
       "      <th></th>\n",
       "    </tr>\n",
       "  </thead>\n",
       "  <tbody>\n",
       "    <tr>\n",
       "      <th>0</th>\n",
       "      <td>5194.07</td>\n",
       "      <td>8397.45</td>\n",
       "      <td>8278.91</td>\n",
       "      <td>7619.70</td>\n",
       "      <td>8336.38</td>\n",
       "      <td>11919.99</td>\n",
       "      <td>7111.31</td>\n",
       "      <td>8156.02</td>\n",
       "      <td>10838.18</td>\n",
       "      <td>12135.44</td>\n",
       "      <td>...</td>\n",
       "      <td>7263.11</td>\n",
       "      <td>7719.75</td>\n",
       "      <td>8527.44</td>\n",
       "      <td>7693.81</td>\n",
       "      <td>7219.23</td>\n",
       "      <td>6948.97</td>\n",
       "      <td>5304.79</td>\n",
       "      <td>7371.46</td>\n",
       "      <td>5778.90</td>\n",
       "      <td>4800.85</td>\n",
       "    </tr>\n",
       "    <tr>\n",
       "      <th>3</th>\n",
       "      <td>7057.64</td>\n",
       "      <td>6978.48</td>\n",
       "      <td>7944.19</td>\n",
       "      <td>7990.65</td>\n",
       "      <td>8039.19</td>\n",
       "      <td>8295.23</td>\n",
       "      <td>7946.26</td>\n",
       "      <td>7541.35</td>\n",
       "      <td>7370.00</td>\n",
       "      <td>7962.35</td>\n",
       "      <td>...</td>\n",
       "      <td>0.00</td>\n",
       "      <td>0.00</td>\n",
       "      <td>11425.51</td>\n",
       "      <td>13529.23</td>\n",
       "      <td>12293.80</td>\n",
       "      <td>4570.75</td>\n",
       "      <td>7484.22</td>\n",
       "      <td>8465.87</td>\n",
       "      <td>9762.75</td>\n",
       "      <td>3612.45</td>\n",
       "    </tr>\n",
       "    <tr>\n",
       "      <th>4</th>\n",
       "      <td>12714.44</td>\n",
       "      <td>13006.38</td>\n",
       "      <td>14486.35</td>\n",
       "      <td>12129.22</td>\n",
       "      <td>12338.93</td>\n",
       "      <td>7939.79</td>\n",
       "      <td>9936.42</td>\n",
       "      <td>9427.46</td>\n",
       "      <td>8534.30</td>\n",
       "      <td>8665.63</td>\n",
       "      <td>...</td>\n",
       "      <td>8418.58</td>\n",
       "      <td>6106.35</td>\n",
       "      <td>6262.71</td>\n",
       "      <td>6488.82</td>\n",
       "      <td>6321.73</td>\n",
       "      <td>6355.37</td>\n",
       "      <td>3670.61</td>\n",
       "      <td>0.00</td>\n",
       "      <td>0.00</td>\n",
       "      <td>0.00</td>\n",
       "    </tr>\n",
       "    <tr>\n",
       "      <th>5</th>\n",
       "      <td>5735.53</td>\n",
       "      <td>6137.29</td>\n",
       "      <td>7508.89</td>\n",
       "      <td>2598.04</td>\n",
       "      <td>7298.36</td>\n",
       "      <td>7370.68</td>\n",
       "      <td>7743.12</td>\n",
       "      <td>6914.07</td>\n",
       "      <td>7564.69</td>\n",
       "      <td>9390.64</td>\n",
       "      <td>...</td>\n",
       "      <td>7615.70</td>\n",
       "      <td>7245.69</td>\n",
       "      <td>7746.47</td>\n",
       "      <td>8678.58</td>\n",
       "      <td>7113.90</td>\n",
       "      <td>5851.42</td>\n",
       "      <td>4498.73</td>\n",
       "      <td>5886.77</td>\n",
       "      <td>4739.17</td>\n",
       "      <td>3965.49</td>\n",
       "    </tr>\n",
       "    <tr>\n",
       "      <th>6</th>\n",
       "      <td>6113.77</td>\n",
       "      <td>6328.36</td>\n",
       "      <td>8022.46</td>\n",
       "      <td>5436.15</td>\n",
       "      <td>6704.42</td>\n",
       "      <td>8497.32</td>\n",
       "      <td>7747.15</td>\n",
       "      <td>5153.24</td>\n",
       "      <td>6111.51</td>\n",
       "      <td>8009.06</td>\n",
       "      <td>...</td>\n",
       "      <td>3866.86</td>\n",
       "      <td>8657.62</td>\n",
       "      <td>8032.57</td>\n",
       "      <td>8434.20</td>\n",
       "      <td>4331.82</td>\n",
       "      <td>5783.30</td>\n",
       "      <td>7312.12</td>\n",
       "      <td>5545.78</td>\n",
       "      <td>5874.38</td>\n",
       "      <td>5421.13</td>\n",
       "    </tr>\n",
       "  </tbody>\n",
       "</table>\n",
       "<p>5 rows × 24 columns</p>\n",
       "</div>"
      ],
      "text/plain": [
       "               1         2         3         4         5         6        7   \\\n",
       "taxi_id                                                                        \n",
       "0         5194.07   8397.45   8278.91   7619.70   8336.38  11919.99  7111.31   \n",
       "3         7057.64   6978.48   7944.19   7990.65   8039.19   8295.23  7946.26   \n",
       "4        12714.44  13006.38  14486.35  12129.22  12338.93   7939.79  9936.42   \n",
       "5         5735.53   6137.29   7508.89   2598.04   7298.36   7370.68  7743.12   \n",
       "6         6113.77   6328.36   8022.46   5436.15   6704.42   8497.32  7747.15   \n",
       "\n",
       "              8         9         10   ...          15       16        17  \\\n",
       "taxi_id                                ...                                  \n",
       "0        8156.02  10838.18  12135.44   ...     7263.11  7719.75   8527.44   \n",
       "3        7541.35   7370.00   7962.35   ...        0.00     0.00  11425.51   \n",
       "4        9427.46   8534.30   8665.63   ...     8418.58  6106.35   6262.71   \n",
       "5        6914.07   7564.69   9390.64   ...     7615.70  7245.69   7746.47   \n",
       "6        5153.24   6111.51   8009.06   ...     3866.86  8657.62   8032.57   \n",
       "\n",
       "               18        19       20       21       22       23       24  \n",
       "taxi_id                                                                   \n",
       "0         7693.81   7219.23  6948.97  5304.79  7371.46  5778.90  4800.85  \n",
       "3        13529.23  12293.80  4570.75  7484.22  8465.87  9762.75  3612.45  \n",
       "4         6488.82   6321.73  6355.37  3670.61     0.00     0.00     0.00  \n",
       "5         8678.58   7113.90  5851.42  4498.73  5886.77  4739.17  3965.49  \n",
       "6         8434.20   4331.82  5783.30  7312.12  5545.78  5874.38  5421.13  \n",
       "\n",
       "[5 rows x 24 columns]"
      ]
     },
     "execution_count": 3,
     "metadata": {},
     "output_type": "execute_result"
    }
   ],
   "source": [
    "driver_test = loader.read_feather(\"Base_Ytest.feather\")\n",
    "\n",
    "df_2015 = loader.read_feather(\"y_2015.feather\")\n",
    "df_2015.set_index('taxi_id', inplace=True)\n",
    "df_2016 = loader.read_feather(\"y_2016.feather\")\n",
    "df_2016.set_index('taxi_id', inplace=True)\n",
    "df_2015 = df_2015.drop([\"Y_total\"],axis=1)\n",
    "df_2016 = df_2016.drop([\"Y_total\"],axis=1)\n",
    "\n",
    "df_total = pd.merge(df_2015, df_2016, left_index=True, right_index=True, how=\"inner\")\n",
    "df_total.columns = range(1,25)\n",
    "df_total.head()"
   ]
  },
  {
   "cell_type": "markdown",
   "metadata": {},
   "source": [
    "## Rolling Window AR"
   ]
  },
  {
   "cell_type": "code",
   "execution_count": 4,
   "metadata": {
    "ExecuteTime": {
     "end_time": "2018-10-12T22:39:49.109101Z",
     "start_time": "2018-10-12T22:37:25.160344Z"
    }
   },
   "outputs": [
    {
     "name": "stderr",
     "output_type": "stream",
     "text": [
      "C:\\Users\\xuhui\\Anaconda3\\lib\\site-packages\\statsmodels\\tsa\\ar_model.py:734: RuntimeWarning: divide by zero encountered in log\n",
      "  return np.log(self.sigma2) + 2 * (1 + self.df_model)/self.nobs\n"
     ]
    }
   ],
   "source": [
    "ar_test = df_total.loc[driver_test[\"taxi_id\"],:]\n",
    "for i in range(12):\n",
    "    ar_test[\"predict\"+str(i+1)] = np.zeros(len(ar_test))\n",
    "\n",
    "for driver in ar_test.index:\n",
    "    for m in range(12):\n",
    "        model = AR(ar_test.loc[driver][m:12+m].values)\n",
    "        model_fit = model.fit(maxlag=11, ic=\"aic\")\n",
    "        params=model_fit.params\n",
    "        lag = len(params)-1\n",
    "        ar_test.loc[driver, \"predict\"+str(m+1)] = max(params[0]+ar_test.loc[driver][12+m-lag:m+12].dot(params[1:]),0)"
   ]
  },
  {
   "cell_type": "code",
   "execution_count": 26,
   "metadata": {
    "ExecuteTime": {
     "end_time": "2018-10-13T00:03:37.514051Z",
     "start_time": "2018-10-13T00:03:37.157007Z"
    }
   },
   "outputs": [
    {
     "data": {
      "image/png": "[encoded data removed]",
      "text/plain": [
       "<Figure size 432x288 with 1 Axes>"
      ]
     },
     "metadata": {},
     "output_type": "display_data"
    }
   ],
   "source": [
    "for m in range(12):\n",
    "    ar_test[\"abserror\"+str(m+1)] = abs(ar_test[\"predict\"+str(m+1)] - ar_test[m+13])\n",
    "\n",
    "err_pct_monthly =[]\n",
    "for m in range(12):\n",
    "    #absolute error sum / monthly trip total sum \n",
    "    err_pct_monthly.append(ar_test[\"abserror\"+str(m+1)].mean()/ar_test[m+13].mean())\n",
    "plt.plot(err_pct_monthly)\n",
    "\n",
    "\n",
    "plt.plot(err_pct_monthly,label=\"AR\")\n",
    "plt.legend()\n",
    "plt.xticks(range(0,12),range(1,13))\n",
    "plt.xlabel(\"Month\")\n",
    "plt.title(\"Monthly Error Percentage\")\n",
    "plt.savefig(\"Rolling_AR.png\", dpi=100)\n",
    "plt.show()"
   ]
  },
  {
   "cell_type": "markdown",
   "metadata": {},
   "source": [
    "Driver 3378 contributed to the month 11 (10 in the plot) error.\n",
    "It has 0 trip totals for several months, causing a lag 1 coefficient of 800, generating an extremely large coefficient."
   ]
  },
  {
   "cell_type": "code",
   "execution_count": 27,
   "metadata": {
    "ExecuteTime": {
     "end_time": "2018-10-13T00:08:48.300264Z",
     "start_time": "2018-10-13T00:08:48.100803Z"
    }
   },
   "outputs": [
    {
     "name": "stderr",
     "output_type": "stream",
     "text": [
      "C:\\Users\\xuhui\\Anaconda3\\lib\\site-packages\\statsmodels\\tsa\\ar_model.py:734: RuntimeWarning: divide by zero encountered in log\n",
      "  return np.log(self.sigma2) + 2 * (1 + self.df_model)/self.nobs\n"
     ]
    },
    {
     "name": "stdout",
     "output_type": "stream",
     "text": [
      "[7.50000000e-01 8.24541333e+02]\n"
     ]
    },
    {
     "data": {
      "text/plain": [
       "5099632.233813334"
      ]
     },
     "execution_count": 27,
     "metadata": {},
     "output_type": "execute_result"
    }
   ],
   "source": [
    "driver=3378\n",
    "m=10\n",
    "model = AR(ar_test.loc[driver][m:12+m].values)\n",
    "model_fit = model.fit(maxlag=11, ic=\"aic\")\n",
    "params=model_fit.params\n",
    "print(params)\n",
    "lag = len(params)-1\n",
    "params[0]+ar_test.loc[driver][12+m-lag:m+12].dot(params[1:])"
   ]
  },
  {
   "cell_type": "code",
   "execution_count": 25,
   "metadata": {
    "ExecuteTime": {
     "end_time": "2018-10-13T00:03:12.924948Z",
     "start_time": "2018-10-13T00:03:12.569561Z"
    }
   },
   "outputs": [
    {
     "data": {
      "image/png": "[encoded data removed]",
      "text/plain": [
       "<Figure size 432x288 with 1 Axes>"
      ]
     },
     "metadata": {},
     "output_type": "display_data"
    }
   ],
   "source": [
    "ar_test_removeoutlier = ar_test.drop([3378],axis=0)\n",
    "\n",
    "err_pct_monthly =[]\n",
    "for m in range(12):\n",
    "    err_pct_monthly.append(ar_test_removeoutlier[\"abserror\"+str(m+1)].mean()/ar_test_removeoutlier[m+13].mean())\n",
    "plt.plot(err_pct_monthly)\n",
    "\n",
    "\n",
    "\n",
    "plt.plot(err_pct_monthly,label=\"AR\")\n",
    "plt.legend()\n",
    "plt.xticks(range(0,12),range(1,13))\n",
    "plt.xlabel(\"Month\")\n",
    "plt.title(\"Monthly Error Percentage\")\n",
    "plt.savefig(\"Rolling_AR.png\", dpi=100)\n",
    "plt.show()"
   ]
  },
  {
   "cell_type": "markdown",
   "metadata": {},
   "source": [
    "## Rolling Window - Random Forest"
   ]
  },
  {
   "cell_type": "code",
   "execution_count": 9,
   "metadata": {
    "ExecuteTime": {
     "end_time": "2018-10-12T23:40:42.774295Z",
     "start_time": "2018-10-12T23:40:42.577822Z"
    }
   },
   "outputs": [],
   "source": [
    "from sklearn.model_selection import cross_validate, train_test_split\n",
    "from sklearn.linear_model import LinearRegression\n",
    "from sklearn.metrics import make_scorer, mean_squared_error, mean_absolute_error\n",
    "\n",
    "def wrap_results(model, X_train, X_test, y_train, y_test, metric):\n",
    "    # model.fit(X_train, y_train)\n",
    "    y_train_predict = model.predict(X_train).flatten()\n",
    "    y_test_predict = model.predict(X_test).flatten()\n",
    "    y_train = y_train.values.flatten()\n",
    "    y_test = y_test.values.flatten()\n",
    "    res = [\n",
    "        metric(y_train_predict, y_train),\n",
    "        metric(y_test_predict, y_test),\n",
    "        np.mean((np.abs(y_train_predict - y_train) / y_train)),\n",
    "        np.mean((np.abs(y_test_predict - y_test) / y_test)),\n",
    "        mean_absolute_error(y_train_predict, y_train) / y_train.mean(),\n",
    "        mean_absolute_error(y_test_predict, y_test) / y_test.mean()\n",
    "    ]\n",
    "    return pd.Series(res, index=['Metric Train', 'Metric Test', 'Ratio Train', 'Ratio Test', 'Ratio 2 Train', 'Ratio 2 Test'])"
   ]
  },
  {
   "cell_type": "code",
   "execution_count": 12,
   "metadata": {
    "ExecuteTime": {
     "end_time": "2018-10-12T23:41:25.882472Z",
     "start_time": "2018-10-12T23:41:19.087886Z"
    }
   },
   "outputs": [
    {
     "name": "stderr",
     "output_type": "stream",
     "text": [
      "C:\\Users\\xuhui\\Anaconda3\\lib\\site-packages\\ipykernel_launcher.py:14: RuntimeWarning: divide by zero encountered in true_divide\n",
      "  \n",
      "C:\\Users\\xuhui\\Anaconda3\\lib\\site-packages\\ipykernel_launcher.py:14: RuntimeWarning: invalid value encountered in true_divide\n",
      "  \n",
      "C:\\Users\\xuhui\\Anaconda3\\lib\\site-packages\\ipykernel_launcher.py:15: RuntimeWarning: divide by zero encountered in true_divide\n",
      "  from ipykernel import kernelapp as app\n",
      "C:\\Users\\xuhui\\Anaconda3\\lib\\site-packages\\ipykernel_launcher.py:15: RuntimeWarning: invalid value encountered in true_divide\n",
      "  from ipykernel import kernelapp as app\n",
      "C:\\Users\\xuhui\\Anaconda3\\lib\\site-packages\\ipykernel_launcher.py:14: RuntimeWarning: divide by zero encountered in true_divide\n",
      "  \n",
      "C:\\Users\\xuhui\\Anaconda3\\lib\\site-packages\\ipykernel_launcher.py:14: RuntimeWarning: invalid value encountered in true_divide\n",
      "  \n",
      "C:\\Users\\xuhui\\Anaconda3\\lib\\site-packages\\ipykernel_launcher.py:15: RuntimeWarning: divide by zero encountered in true_divide\n",
      "  from ipykernel import kernelapp as app\n",
      "C:\\Users\\xuhui\\Anaconda3\\lib\\site-packages\\ipykernel_launcher.py:15: RuntimeWarning: invalid value encountered in true_divide\n",
      "  from ipykernel import kernelapp as app\n",
      "C:\\Users\\xuhui\\Anaconda3\\lib\\site-packages\\ipykernel_launcher.py:14: RuntimeWarning: divide by zero encountered in true_divide\n",
      "  \n",
      "C:\\Users\\xuhui\\Anaconda3\\lib\\site-packages\\ipykernel_launcher.py:14: RuntimeWarning: invalid value encountered in true_divide\n",
      "  \n",
      "C:\\Users\\xuhui\\Anaconda3\\lib\\site-packages\\ipykernel_launcher.py:15: RuntimeWarning: divide by zero encountered in true_divide\n",
      "  from ipykernel import kernelapp as app\n",
      "C:\\Users\\xuhui\\Anaconda3\\lib\\site-packages\\ipykernel_launcher.py:15: RuntimeWarning: invalid value encountered in true_divide\n",
      "  from ipykernel import kernelapp as app\n",
      "C:\\Users\\xuhui\\Anaconda3\\lib\\site-packages\\ipykernel_launcher.py:14: RuntimeWarning: divide by zero encountered in true_divide\n",
      "  \n",
      "C:\\Users\\xuhui\\Anaconda3\\lib\\site-packages\\ipykernel_launcher.py:14: RuntimeWarning: invalid value encountered in true_divide\n",
      "  \n",
      "C:\\Users\\xuhui\\Anaconda3\\lib\\site-packages\\ipykernel_launcher.py:15: RuntimeWarning: divide by zero encountered in true_divide\n",
      "  from ipykernel import kernelapp as app\n",
      "C:\\Users\\xuhui\\Anaconda3\\lib\\site-packages\\ipykernel_launcher.py:15: RuntimeWarning: invalid value encountered in true_divide\n",
      "  from ipykernel import kernelapp as app\n",
      "C:\\Users\\xuhui\\Anaconda3\\lib\\site-packages\\ipykernel_launcher.py:14: RuntimeWarning: divide by zero encountered in true_divide\n",
      "  \n",
      "C:\\Users\\xuhui\\Anaconda3\\lib\\site-packages\\ipykernel_launcher.py:14: RuntimeWarning: invalid value encountered in true_divide\n",
      "  \n",
      "C:\\Users\\xuhui\\Anaconda3\\lib\\site-packages\\ipykernel_launcher.py:15: RuntimeWarning: divide by zero encountered in true_divide\n",
      "  from ipykernel import kernelapp as app\n",
      "C:\\Users\\xuhui\\Anaconda3\\lib\\site-packages\\ipykernel_launcher.py:15: RuntimeWarning: invalid value encountered in true_divide\n",
      "  from ipykernel import kernelapp as app\n",
      "C:\\Users\\xuhui\\Anaconda3\\lib\\site-packages\\ipykernel_launcher.py:14: RuntimeWarning: divide by zero encountered in true_divide\n",
      "  \n",
      "C:\\Users\\xuhui\\Anaconda3\\lib\\site-packages\\ipykernel_launcher.py:14: RuntimeWarning: invalid value encountered in true_divide\n",
      "  \n",
      "C:\\Users\\xuhui\\Anaconda3\\lib\\site-packages\\ipykernel_launcher.py:15: RuntimeWarning: divide by zero encountered in true_divide\n",
      "  from ipykernel import kernelapp as app\n",
      "C:\\Users\\xuhui\\Anaconda3\\lib\\site-packages\\ipykernel_launcher.py:15: RuntimeWarning: invalid value encountered in true_divide\n",
      "  from ipykernel import kernelapp as app\n",
      "C:\\Users\\xuhui\\Anaconda3\\lib\\site-packages\\ipykernel_launcher.py:14: RuntimeWarning: divide by zero encountered in true_divide\n",
      "  \n",
      "C:\\Users\\xuhui\\Anaconda3\\lib\\site-packages\\ipykernel_launcher.py:14: RuntimeWarning: invalid value encountered in true_divide\n",
      "  \n",
      "C:\\Users\\xuhui\\Anaconda3\\lib\\site-packages\\ipykernel_launcher.py:15: RuntimeWarning: divide by zero encountered in true_divide\n",
      "  from ipykernel import kernelapp as app\n",
      "C:\\Users\\xuhui\\Anaconda3\\lib\\site-packages\\ipykernel_launcher.py:15: RuntimeWarning: invalid value encountered in true_divide\n",
      "  from ipykernel import kernelapp as app\n",
      "C:\\Users\\xuhui\\Anaconda3\\lib\\site-packages\\ipykernel_launcher.py:14: RuntimeWarning: divide by zero encountered in true_divide\n",
      "  \n",
      "C:\\Users\\xuhui\\Anaconda3\\lib\\site-packages\\ipykernel_launcher.py:14: RuntimeWarning: invalid value encountered in true_divide\n",
      "  \n",
      "C:\\Users\\xuhui\\Anaconda3\\lib\\site-packages\\ipykernel_launcher.py:15: RuntimeWarning: divide by zero encountered in true_divide\n",
      "  from ipykernel import kernelapp as app\n",
      "C:\\Users\\xuhui\\Anaconda3\\lib\\site-packages\\ipykernel_launcher.py:15: RuntimeWarning: invalid value encountered in true_divide\n",
      "  from ipykernel import kernelapp as app\n",
      "C:\\Users\\xuhui\\Anaconda3\\lib\\site-packages\\ipykernel_launcher.py:14: RuntimeWarning: divide by zero encountered in true_divide\n",
      "  \n",
      "C:\\Users\\xuhui\\Anaconda3\\lib\\site-packages\\ipykernel_launcher.py:14: RuntimeWarning: invalid value encountered in true_divide\n",
      "  \n",
      "C:\\Users\\xuhui\\Anaconda3\\lib\\site-packages\\ipykernel_launcher.py:15: RuntimeWarning: divide by zero encountered in true_divide\n",
      "  from ipykernel import kernelapp as app\n",
      "C:\\Users\\xuhui\\Anaconda3\\lib\\site-packages\\ipykernel_launcher.py:15: RuntimeWarning: invalid value encountered in true_divide\n",
      "  from ipykernel import kernelapp as app\n",
      "C:\\Users\\xuhui\\Anaconda3\\lib\\site-packages\\ipykernel_launcher.py:14: RuntimeWarning: divide by zero encountered in true_divide\n",
      "  \n",
      "C:\\Users\\xuhui\\Anaconda3\\lib\\site-packages\\ipykernel_launcher.py:14: RuntimeWarning: invalid value encountered in true_divide\n",
      "  \n",
      "C:\\Users\\xuhui\\Anaconda3\\lib\\site-packages\\ipykernel_launcher.py:15: RuntimeWarning: divide by zero encountered in true_divide\n",
      "  from ipykernel import kernelapp as app\n",
      "C:\\Users\\xuhui\\Anaconda3\\lib\\site-packages\\ipykernel_launcher.py:15: RuntimeWarning: invalid value encountered in true_divide\n",
      "  from ipykernel import kernelapp as app\n",
      "C:\\Users\\xuhui\\Anaconda3\\lib\\site-packages\\ipykernel_launcher.py:14: RuntimeWarning: divide by zero encountered in true_divide\n",
      "  \n",
      "C:\\Users\\xuhui\\Anaconda3\\lib\\site-packages\\ipykernel_launcher.py:14: RuntimeWarning: invalid value encountered in true_divide\n",
      "  \n",
      "C:\\Users\\xuhui\\Anaconda3\\lib\\site-packages\\ipykernel_launcher.py:15: RuntimeWarning: divide by zero encountered in true_divide\n",
      "  from ipykernel import kernelapp as app\n",
      "C:\\Users\\xuhui\\Anaconda3\\lib\\site-packages\\ipykernel_launcher.py:15: RuntimeWarning: invalid value encountered in true_divide\n",
      "  from ipykernel import kernelapp as app\n",
      "C:\\Users\\xuhui\\Anaconda3\\lib\\site-packages\\ipykernel_launcher.py:14: RuntimeWarning: divide by zero encountered in true_divide\n",
      "  \n",
      "C:\\Users\\xuhui\\Anaconda3\\lib\\site-packages\\ipykernel_launcher.py:14: RuntimeWarning: invalid value encountered in true_divide\n",
      "  \n",
      "C:\\Users\\xuhui\\Anaconda3\\lib\\site-packages\\ipykernel_launcher.py:15: RuntimeWarning: divide by zero encountered in true_divide\n",
      "  from ipykernel import kernelapp as app\n",
      "C:\\Users\\xuhui\\Anaconda3\\lib\\site-packages\\ipykernel_launcher.py:15: RuntimeWarning: invalid value encountered in true_divide\n",
      "  from ipykernel import kernelapp as app\n"
     ]
    },
    {
     "data": {
      "text/plain": [
       "[<matplotlib.lines.Line2D at 0x1d1d56bfcc0>]"
      ]
     },
     "execution_count": 12,
     "metadata": {},
     "output_type": "execute_result"
    },
    {
     "data": {
      "image/png": "[encoded data removed]",
      "text/plain": [
       "<Figure size 432x288 with 1 Axes>"
      ]
     },
     "metadata": {},
     "output_type": "display_data"
    }
   ],
   "source": [
    "features_2015 = loader.read_feather(\"2015_features.feather\").set_index(\"taxi_id\")\n",
    "features_2016 = loader.read_feather(\"2016_features.feather\").set_index(\"taxi_id\")\n",
    "labels_2015 = loader.read_feather(\"y_2015.feather\").set_index(\"taxi_id\")\n",
    "labels_2016 = loader.read_feather(\"y_2016.feather\").set_index(\"taxi_id\")\n",
    "\n",
    "features_2016.columns = ['count_13','count_14','count_15','count_16','count_17','count_18','count_19','count_20','count_21','count_22','count_23','count_24','total_daytime0_13','total_daytime1_13','total_daytime0_14','total_daytime1_14','total_daytime0_15','total_daytime1_15','total_daytime0_16','total_daytime1_16','total_daytime0_17','total_daytime1_17','total_daytime0_18','total_daytime1_18','total_daytime0_19','total_daytime1_19','total_daytime0_20','total_daytime1_20','total_daytime0_21','total_daytime1_21','total_daytime0_22','total_daytime1_22','total_daytime0_23','total_daytime1_23','total_daytime0_24','total_daytime1_24','max_break_hrs_13','max_break_hrs_14','max_break_hrs_15','max_break_hrs_16','max_break_hrs_17','max_break_hrs_18','max_break_hrs_19','max_break_hrs_20','max_break_hrs_21','max_break_hrs_22','max_break_hrs_23','max_break_hrs_24','avg_break_hrs_13','avg_break_hrs_14','avg_break_hrs_15','avg_break_hrs_16','avg_break_hrs_17','avg_break_hrs_18','avg_break_hrs_19','avg_break_hrs_20','avg_break_hrs_21','avg_break_hrs_22','avg_break_hrs_23','avg_break_hrs_24','miles_mean_13','miles_mean_14','miles_mean_15','miles_mean_16','miles_mean_17','miles_mean_18','miles_mean_19','miles_mean_20','miles_mean_21','miles_mean_22','miles_mean_23','miles_mean_24','total_25p_13','total_25p_14','total_25p_15','total_25p_16','total_25p_17','total_25p_18','total_25p_19','total_25p_20','total_25p_21','total_25p_22','total_25p_23','total_25p_24','total_50p_13','total_50p_14','total_50p_15','total_50p_16','total_50p_17','total_50p_18','total_50p_19','total_50p_20','total_50p_21','total_50p_22','total_50p_23','total_50p_24','total_75p_13','total_75p_14','total_75p_15','total_75p_16','total_75p_17','total_75p_18','total_75p_19','total_75p_20','total_75p_21','total_75p_22','total_75p_23','total_75p_24','total_mean_13','total_mean_14','total_mean_15','total_mean_16','total_mean_17','total_mean_18','total_mean_19','total_mean_20','total_mean_21','total_mean_22','total_mean_23','total_mean_24','seconds_mean_13','seconds_mean_14','seconds_mean_15','seconds_mean_16','seconds_mean_17','seconds_mean_18','seconds_mean_19','seconds_mean_20','seconds_mean_21','seconds_mean_22','seconds_mean_23','seconds_mean_24','total_sum_13','total_sum_14','total_sum_15','total_sum_16','total_sum_17','total_sum_18','total_sum_19','total_sum_20','total_sum_21','total_sum_22','total_sum_23','total_sum_24','total_workday0_13','total_workday1_13','total_workday0_14','total_workday1_14','total_workday0_15','total_workday1_15','total_workday0_16','total_workday1_16','total_workday0_17','total_workday1_17','total_workday0_18','total_workday1_18','total_workday0_19','total_workday1_19','total_workday0_20','total_workday1_20','total_workday0_21','total_workday1_21','total_workday0_22','total_workday1_22','total_workday0_23','total_workday1_23','total_workday0_24','total_workday1_24']\n",
    "rename_columns = features_2015.columns\n",
    "\n",
    "X_train = loader.read_feather(\"Base_Xtrain.feather\").set_index(\"taxi_id\")\n",
    "X_test = loader.read_feather(\"Base_Xtest.feather\").set_index(\"taxi_id\")\n",
    "\n",
    "from sklearn.ensemble import RandomForestRegressor\n",
    "\n",
    "rf = RandomForestRegressor(bootstrap= False, max_depth = None, \n",
    "                           max_features= 10, min_samples_leaf=3, \n",
    "                           min_samples_split=3)\n",
    "\n",
    "\n",
    "features_total = pd.merge(features_2015, features_2016, left_index=True, right_index=True)\n",
    "col = [\"count_\", \"total_daytime\",\"max_break_hrs_\",\"avg_break_hrs_\",\n",
    "      \"miles_mean_\",\"total_25p_\",\"total_50p_\",\"total_75p_\",\"total_mean_\",\"seconds_mean_\",\n",
    "      \"total_sum_\",\"total_workday\"]\n",
    "\n",
    "rf_result_summary = []\n",
    "\n",
    "for i in range(12):\n",
    "    new_col = []\n",
    "    for c in col:\n",
    "        for m in range(1,13):\n",
    "            if c ==\"total_daytime\" or c==\"total_workday\":\n",
    "                new_col.append(c+\"0_\"+str(m+i))\n",
    "                new_col.append(c+\"1_\"+str(m+i))\n",
    "            else:\n",
    "                new_col.append(c+str(m+i))\n",
    "                \n",
    "    train_feature_temp = features_total[new_col].loc[X_train.index].copy()\n",
    "    test_feature_temp = features_total[new_col].loc[X_test.index].copy()\n",
    "    \n",
    "    train_feature_temp.columns = rename_columns\n",
    "    test_feature_temp.columns= rename_columns\n",
    "    \n",
    "    \n",
    "    train_label_temp = labels_2016.loc[X_train.index][\"Y_\"+str(i+1)]\n",
    "    test_label_temp = labels_2016.loc[X_test.index][\"Y_\"+str(i+1)]                \n",
    "    \n",
    "    rf.fit(train_feature_temp,train_label_temp)\n",
    "    rf_results = wrap_results(rf, train_feature_temp, test_feature_temp,\n",
    "                          train_label_temp, test_label_temp, mean_absolute_error)\n",
    "    rf_result_summary.append(rf_results[\"Ratio 2 Test\"])\n",
    "\n",
    "\n"
   ]
  },
  {
   "cell_type": "markdown",
   "metadata": {},
   "source": [
    "## Comparison"
   ]
  },
  {
   "cell_type": "code",
   "execution_count": 24,
   "metadata": {
    "ExecuteTime": {
     "end_time": "2018-10-12T23:48:16.369733Z",
     "start_time": "2018-10-12T23:48:16.002716Z"
    }
   },
   "outputs": [
    {
     "data": {
      "image/png": "[encoded data removed]",
      "text/plain": [
       "<Figure size 432x288 with 1 Axes>"
      ]
     },
     "metadata": {},
     "output_type": "display_data"
    }
   ],
   "source": [
    "plt.plot(err_pct_monthly,label=\"AR\")\n",
    "plt.plot(rf_result_summary,label=\"Random Forest\")\n",
    "plt.legend()\n",
    "plt.xticks(range(0,12),range(1,13))\n",
    "plt.xlabel(\"Month\")\n",
    "plt.title(\"Monthly Error Percentage\")\n",
    "plt.savefig(\"Rolling_Analysis.png\", dpi=100)\n",
    "plt.show()"
   ]
  }
 ],
 "metadata": {
  "hide_input": false,
  "kernelspec": {
   "display_name": "Python 3",
   "language": "python",
   "name": "python3"
  },
  "language_info": {
   "codemirror_mode": {
    "name": "ipython",
    "version": 3
   },
   "file_extension": ".py",
   "mimetype": "text/x-python",
   "name": "python",
   "nbconvert_exporter": "python",
   "pygments_lexer": "ipython3",
   "version": "3.6.5"
  },
  "toc": {
   "base_numbering": 1,
   "nav_menu": {},
   "number_sections": false,
   "sideBar": true,
   "skip_h1_title": false,
   "title_cell": "Table of Contents",
   "title_sidebar": "Contents",
   "toc_cell": false,
   "toc_position": {},
   "toc_section_display": true,
   "toc_window_display": true
  }
 },
 "nbformat": 4,
 "nbformat_minor": 2
}
