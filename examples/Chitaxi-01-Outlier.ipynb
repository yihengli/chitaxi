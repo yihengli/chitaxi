{
  "cells": [
    {
      "cell_type": "code",
      "source": [
        "import pandas as pd\n",
        "import numpy as np\n",
        "import sklearn\n",
        "import matplotlib as mpl\n",
        "import matplotlib.pyplot as plt\n",
        "import seaborn as sns\n",
        "import datetime\n",
        "import time\n",
        "from chitaxi.datasets.loader import get_data_taxi, save_as_feather\n",
        "from chitaxi.datasets.cleaner import Outlier\n",
        "\n\n",
        "# %config InlineBackend.figure_format = 'svg'\n",
        "%load_ext autoreload\n",
        "%autoreload 2\n",
        "plt.style.use('seaborn')\n",
        "mpl.rcParams['legend.frameon'] = True\n",
        "mpl.rcParams['legend.facecolor'] = 'w'\n",
        "\noutlier = Outlier()"
      ],
      "outputs": [],
      "execution_count": 1,
      "metadata": {
        "ExecuteTime": {
          "end_time": "2018-09-25T08:22:21.688702Z",
          "start_time": "2018-09-25T08:22:20.877478Z"
        }
      }
    },
    {
      "cell_type": "markdown",
      "source": [
        "# ChiTaxi 01 - Data Exploration & Outlier Detection"
      ],
      "metadata": {}
    },
    {
      "cell_type": "markdown",
      "source": [
        "## Data Health"
      ],
      "metadata": {}
    },
    {
      "cell_type": "code",
      "source": [
        "data = get_data_taxi(start='20150101', end='20151231')"
      ],
      "outputs": [],
      "execution_count": 2,
      "metadata": {
        "ExecuteTime": {
          "end_time": "2018-09-25T08:25:20.030700Z",
          "start_time": "2018-09-25T08:22:22.324583Z"
        }
      }
    },
    {
      "cell_type": "code",
      "source": [
        "data.info(memory_usage='deep')"
      ],
      "outputs": [
        {
          "output_type": "stream",
          "name": "stdout",
          "text": [
            "<class 'pandas.core.frame.DataFrame'>\n",
            "Int64Index: 27337211 entries, 6417 to 27336026\n",
            "Data columns (total 16 columns):\n",
            "taxi_id                       int64\n",
            "trip_start_timestamp          datetime64[ns]\n",
            "trip_end_timestamp            datetime64[ns]\n",
            "trip_seconds                  float64\n",
            "trip_miles                    float64\n",
            "fare                          float64\n",
            "tips                          float64\n",
            "tolls                         float64\n",
            "extras                        float64\n",
            "trip_total                    float64\n",
            "payment_type                  object\n",
            "company                       object\n",
            "pickup_centroid_latitude      float64\n",
            "pickup_centroid_longitude     float64\n",
            "dropoff_centroid_latitude     float64\n",
            "dropoff_centroid_longitude    float64\n",
            "dtypes: datetime64[ns](2), float64(11), int64(1), object(2)\n",
            "memory usage: 6.4 GB\n"
          ]
        }
      ],
      "execution_count": 3,
      "metadata": {
        "ExecuteTime": {
          "end_time": "2018-09-25T08:25:45.213307Z",
          "start_time": "2018-09-25T08:25:20.043666Z"
        }
      }
    },
    {
      "cell_type": "code",
      "source": [
        "data.head(3)"
      ],
      "outputs": [
        {
          "output_type": "execute_result",
          "execution_count": 4,
          "data": {
            "text/html": [
              "<div>\n",
              "<style scoped>\n",
              "    .dataframe tbody tr th:only-of-type {\n",
              "        vertical-align: middle;\n",
              "    }\n",
              "\n",
              "    .dataframe tbody tr th {\n",
              "        vertical-align: top;\n",
              "    }\n",
              "\n",
              "    .dataframe thead th {\n",
              "        text-align: right;\n",
              "    }\n",
              "</style>\n",
              "<table border=\"1\" class=\"dataframe\">\n",
              "  <thead>\n",
              "    <tr style=\"text-align: right;\">\n",
              "      <th></th>\n",
              "      <th>taxi_id</th>\n",
              "      <th>trip_start_timestamp</th>\n",
              "      <th>trip_end_timestamp</th>\n",
              "      <th>trip_seconds</th>\n",
              "      <th>trip_miles</th>\n",
              "      <th>fare</th>\n",
              "      <th>tips</th>\n",
              "      <th>tolls</th>\n",
              "      <th>extras</th>\n",
              "      <th>trip_total</th>\n",
              "      <th>payment_type</th>\n",
              "      <th>company</th>\n",
              "      <th>pickup_centroid_latitude</th>\n",
              "      <th>pickup_centroid_longitude</th>\n",
              "      <th>dropoff_centroid_latitude</th>\n",
              "      <th>dropoff_centroid_longitude</th>\n",
              "    </tr>\n",
              "  </thead>\n",
              "  <tbody>\n",
              "    <tr>\n",
              "      <th>6417</th>\n",
              "      <td>0</td>\n",
              "      <td>2015-01-01</td>\n",
              "      <td>2015-01-01 00:15:00</td>\n",
              "      <td>360.0</td>\n",
              "      <td>1.0</td>\n",
              "      <td>5.85</td>\n",
              "      <td>0.00</td>\n",
              "      <td>0.0</td>\n",
              "      <td>1.0</td>\n",
              "      <td>6.85</td>\n",
              "      <td>Cash</td>\n",
              "      <td>NaN</td>\n",
              "      <td>41.892042</td>\n",
              "      <td>-87.631864</td>\n",
              "      <td>41.899156</td>\n",
              "      <td>-87.626211</td>\n",
              "    </tr>\n",
              "    <tr>\n",
              "      <th>80835</th>\n",
              "      <td>1014</td>\n",
              "      <td>2015-01-01</td>\n",
              "      <td>2015-01-01 00:00:00</td>\n",
              "      <td>0.0</td>\n",
              "      <td>0.0</td>\n",
              "      <td>36.45</td>\n",
              "      <td>7.29</td>\n",
              "      <td>0.0</td>\n",
              "      <td>0.0</td>\n",
              "      <td>43.74</td>\n",
              "      <td>Credit Card</td>\n",
              "      <td>Chicago Elite Cab Corp. (Chicago Carriag</td>\n",
              "      <td>NaN</td>\n",
              "      <td>NaN</td>\n",
              "      <td>NaN</td>\n",
              "      <td>NaN</td>\n",
              "    </tr>\n",
              "    <tr>\n",
              "      <th>111519</th>\n",
              "      <td>1026</td>\n",
              "      <td>2015-01-01</td>\n",
              "      <td>2015-01-01 00:15:00</td>\n",
              "      <td>360.0</td>\n",
              "      <td>0.0</td>\n",
              "      <td>5.65</td>\n",
              "      <td>0.00</td>\n",
              "      <td>0.0</td>\n",
              "      <td>2.0</td>\n",
              "      <td>7.65</td>\n",
              "      <td>Cash</td>\n",
              "      <td>Taxi Affiliation Services</td>\n",
              "      <td>41.892042</td>\n",
              "      <td>-87.631864</td>\n",
              "      <td>41.899156</td>\n",
              "      <td>-87.626211</td>\n",
              "    </tr>\n",
              "  </tbody>\n",
              "</table>\n",
              "</div>"
            ],
            "text/plain": [
              "        taxi_id trip_start_timestamp  trip_end_timestamp  trip_seconds  \\\n",
              "6417          0           2015-01-01 2015-01-01 00:15:00         360.0   \n",
              "80835      1014           2015-01-01 2015-01-01 00:00:00           0.0   \n",
              "111519     1026           2015-01-01 2015-01-01 00:15:00         360.0   \n",
              "\n",
              "        trip_miles   fare  tips  tolls  extras  trip_total payment_type  \\\n",
              "6417           1.0   5.85  0.00    0.0     1.0        6.85         Cash   \n",
              "80835          0.0  36.45  7.29    0.0     0.0       43.74  Credit Card   \n",
              "111519         0.0   5.65  0.00    0.0     2.0        7.65         Cash   \n",
              "\n",
              "                                         company  pickup_centroid_latitude  \\\n",
              "6417                                         NaN                 41.892042   \n",
              "80835   Chicago Elite Cab Corp. (Chicago Carriag                       NaN   \n",
              "111519                 Taxi Affiliation Services                 41.892042   \n",
              "\n",
              "        pickup_centroid_longitude  dropoff_centroid_latitude  \\\n",
              "6417                   -87.631864                  41.899156   \n",
              "80835                         NaN                        NaN   \n",
              "111519                 -87.631864                  41.899156   \n",
              "\n",
              "        dropoff_centroid_longitude  \n",
              "6417                    -87.626211  \n",
              "80835                          NaN  \n",
              "111519                  -87.626211  "
            ]
          },
          "metadata": {}
        }
      ],
      "execution_count": 4,
      "metadata": {
        "ExecuteTime": {
          "end_time": "2018-09-25T08:25:45.468623Z",
          "start_time": "2018-09-25T08:25:45.219291Z"
        }
      }
    },
    {
      "cell_type": "code",
      "source": [
        "print(\"*100% of data is NA:\")\n",
        "data.isna().sum()/len(data)"
      ],
      "outputs": [
        {
          "output_type": "stream",
          "name": "stdout",
          "text": [
            "*100% of data is NA:\n"
          ]
        },
        {
          "output_type": "execute_result",
          "execution_count": 5,
          "data": {
            "text/plain": [
              "taxi_id                       0.000000\n",
              "trip_start_timestamp          0.000000\n",
              "trip_end_timestamp            0.000131\n",
              "trip_seconds                  0.000224\n",
              "trip_miles                    0.000002\n",
              "fare                          0.000006\n",
              "tips                          0.000006\n",
              "tolls                         0.000006\n",
              "extras                        0.000006\n",
              "trip_total                    0.000006\n",
              "payment_type                  0.000000\n",
              "company                       0.352399\n",
              "pickup_centroid_latitude      0.154228\n",
              "pickup_centroid_longitude     0.154228\n",
              "dropoff_centroid_latitude     0.171921\n",
              "dropoff_centroid_longitude    0.171921\n",
              "dtype: float64"
            ]
          },
          "metadata": {}
        }
      ],
      "execution_count": 5,
      "metadata": {
        "ExecuteTime": {
          "end_time": "2018-09-25T08:25:52.871838Z",
          "start_time": "2018-09-25T08:25:45.472654Z"
        }
      }
    },
    {
      "cell_type": "markdown",
      "source": [
        "* `Company` feature has the most null values, around 35%. In this analysis, we probably won't use this feature\n",
        "* `latitude` and `longtitude` also suffered 16 - 17% null values. However, we are not going to use them in the first stage baseline establishment. Even in the second stage, as data will be aggregated to the monthly level, we hope those missing values will be durable."
      ],
      "metadata": {}
    },
    {
      "cell_type": "markdown",
      "source": [
        "## Outlier Detection\n",
        "\n",
        "From step 1 to 5, we are cleaning the data based on simple data explorations.\n",
        "\n",
        "* Removing Duplications\n",
        "* Removing transactions that have little revenues\n",
        "* Removing transactions that have too large trip distance or extra fees\n",
        "* Removing invalid transactions that have mismatched start or end time.\n",
        "\nFor step 6, we are using our own models to detect if the existing fare price is reasonable based on a given pricing formula and quantiles information. More details will be explained the sections below:"
      ],
      "metadata": {}
    },
    {
      "cell_type": "markdown",
      "source": [
        "### Step 1: Duplications"
      ],
      "metadata": {}
    },
    {
      "cell_type": "code",
      "source": [
        "data = outlier.drop_duplicates(data)"
      ],
      "outputs": [
        {
          "output_type": "stream",
          "name": "stderr",
          "text": [
            "2018-09-25 01:25:52 - INFO - Orignal - Rows: 27337211\n",
            "2018-09-25 01:25:52 - INFO - Dropping duplications\n",
            "2018-09-25 01:27:15 - INFO - After Drroping - Rows: 27274021\n",
            "2018-09-25 01:27:15 - INFO - Drop Ratio: 0.23115%\n"
          ]
        }
      ],
      "execution_count": 6,
      "metadata": {
        "ExecuteTime": {
          "end_time": "2018-09-25T08:27:15.573243Z",
          "start_time": "2018-09-25T08:25:52.874804Z"
        }
      }
    },
    {
      "cell_type": "markdown",
      "source": [
        "### Step 2: Drop trips that have \\$0 or \\$0.1 total values"
      ],
      "metadata": {}
    },
    {
      "cell_type": "code",
      "source": [
        "data = outlier.drop_at_threshhold(data, metric='trip_total', thresh=0.1, islarger=False)"
      ],
      "outputs": [
        {
          "output_type": "stream",
          "name": "stderr",
          "text": [
            "2018-09-25 01:27:15 - INFO - Orignal - Rows: 27274021\n",
            "2018-09-25 01:27:15 - INFO - Dropping any trip_total less than 0.1\n",
            "2018-09-25 01:27:45 - INFO - After Drroping - Rows: 27242317\n",
            "2018-09-25 01:27:45 - INFO - Drop Ratio: 0.11624%\n"
          ]
        }
      ],
      "execution_count": 7,
      "metadata": {
        "ExecuteTime": {
          "end_time": "2018-09-25T08:27:46.759781Z",
          "start_time": "2018-09-25T08:27:15.614131Z"
        }
      }
    },
    {
      "cell_type": "markdown",
      "source": [
        "### Step 3: trip_miles>1000"
      ],
      "metadata": {}
    },
    {
      "cell_type": "code",
      "source": [
        "metric = 'trip_miles'\n",
        "fig, ax = plt.subplots(2,1, figsize=(7,7))\n",
        "data[metric].hist(ax=ax[0],bins=50)\n",
        "ax[0].set_title('Original')\n",
        "\n",
        "data = outlier.drop_at_threshhold(data, metric=metric, thresh=1000)\n",
        "\n",
        "data[metric].hist(ax=ax[1],bins=50)\n",
        "ax[1].set_title('Outlier Removed')"
      ],
      "outputs": [
        {
          "output_type": "stream",
          "name": "stderr",
          "text": [
            "2018-09-25 01:27:51 - INFO - Orignal - Rows: 27242317\n",
            "2018-09-25 01:27:51 - INFO - Dropping any trip_miles more than 1000\n",
            "2018-09-25 01:27:57 - INFO - After Drroping - Rows: 27240288\n",
            "2018-09-25 01:27:57 - INFO - Drop Ratio: 0.00745%\n"
          ]
        },
        {
          "output_type": "execute_result",
          "execution_count": 8,
          "data": {
            "text/plain": [
              "Text(0.5, 1.0, 'Outlier Removed')"
            ]
          },
          "metadata": {}
        },
        {
          "output_type": "display_data",
          "data": {
            "image/png": "[encoded data removed]",
            "text/plain": [
              "<Figure size 504x504 with 2 Axes>"
            ]
          },
          "metadata": {
            "needs_background": "light"
          }
        }
      ],
      "execution_count": 8,
      "metadata": {
        "ExecuteTime": {
          "end_time": "2018-09-25T08:28:02.277280Z",
          "start_time": "2018-09-25T08:27:46.770753Z"
        }
      }
    },
    {
      "cell_type": "markdown",
      "source": [
        "### Step 4: extra > 100"
      ],
      "metadata": {}
    },
    {
      "cell_type": "code",
      "source": [
        "metric = 'extras'\n",
        "fig, ax = plt.subplots(2,1, figsize=(7,7))\n",
        "data[metric].hist(ax=ax[0],bins=50)\n",
        "ax[0].set_title('Original')\n",
        "\n",
        "data = outlier.drop_at_threshhold(data, metric=metric, thresh=100)\n",
        "\n",
        "data[metric].hist(ax=ax[1],bins=50)\n",
        "ax[1].set_title('Outlier Removed')"
      ],
      "outputs": [
        {
          "output_type": "stream",
          "name": "stderr",
          "text": [
            "2018-09-25 01:28:05 - INFO - Orignal - Rows: 27240288\n",
            "2018-09-25 01:28:05 - INFO - Dropping any extras more than 100\n",
            "2018-09-25 01:28:21 - INFO - After Drroping - Rows: 27239040\n",
            "2018-09-25 01:28:21 - INFO - Drop Ratio: 0.00458%\n"
          ]
        },
        {
          "output_type": "execute_result",
          "execution_count": 9,
          "data": {
            "text/plain": [
              "Text(0.5, 1.0, 'Outlier Removed')"
            ]
          },
          "metadata": {}
        },
        {
          "output_type": "display_data",
          "data": {
            "image/png": "[encoded data removed]",
            "text/plain": [
              "<Figure size 504x504 with 2 Axes>"
            ]
          },
          "metadata": {
            "needs_background": "light"
          }
        }
      ],
      "execution_count": 9,
      "metadata": {
        "ExecuteTime": {
          "end_time": "2018-09-25T08:28:26.291005Z",
          "start_time": "2018-09-25T08:28:02.281268Z"
        }
      }
    },
    {
      "cell_type": "markdown",
      "source": [
        "### Step 5: trip_seconds and trip_total is NaN. (start-time > end-time)\n",
        "\n`trip_seconds` are dropped for this step. In those cases, the start time is later than end time (does not make sense)."
      ],
      "metadata": {}
    },
    {
      "cell_type": "code",
      "source": [
        "data = outlier.drop_null_values(data, metric='trip_seconds')"
      ],
      "outputs": [
        {
          "output_type": "stream",
          "name": "stderr",
          "text": [
            "2018-09-25 01:28:26 - INFO - Orignal - Rows: 27239040\n",
            "2018-09-25 01:28:26 - INFO - Dropping NA values at trip_seconds\n",
            "2018-09-25 01:28:49 - INFO - After Drroping - Rows: 27236571\n",
            "2018-09-25 01:28:49 - INFO - Drop Ratio: 0.00906%\n"
          ]
        }
      ],
      "execution_count": 10,
      "metadata": {
        "ExecuteTime": {
          "end_time": "2018-09-25T08:28:50.459324Z",
          "start_time": "2018-09-25T08:28:26.296019Z"
        }
      }
    },
    {
      "cell_type": "code",
      "source": [
        "data = outlier.drop_null_values(data, metric='trip_total')"
      ],
      "outputs": [
        {
          "output_type": "stream",
          "name": "stderr",
          "text": [
            "2018-09-25 01:28:50 - INFO - Orignal - Rows: 27236571\n",
            "2018-09-25 01:28:50 - INFO - Dropping NA values at trip_total\n",
            "2018-09-25 01:29:08 - INFO - After Drroping - Rows: 27236405\n",
            "2018-09-25 01:29:08 - INFO - Drop Ratio: 0.00061%\n"
          ]
        }
      ],
      "execution_count": 11,
      "metadata": {
        "ExecuteTime": {
          "end_time": "2018-09-25T08:29:09.308878Z",
          "start_time": "2018-09-25T08:28:50.543100Z"
        }
      }
    },
    {
      "cell_type": "markdown",
      "source": [
        "### Step 6: Fare outlier\n",
        "\n",
        "In this section, we will determine if a fare price is reasonable by combining two models:\n",
        "\n",
        "1. We are using a given pricing formula to calculate a \"fair\" fare price based on the recorded trip miles and trip seconds. If the price is off too much (judged by its absolute fare difference or absolute percentage difference), we believe it either has a wrong price or wrong miles/seconds. Then those transactions will marked as `Model Outlier` waiting for the next step.\n",
        "2. We will also apply the well-known IQR method, which is to use the 1.5 times Q1 and Q3 quantiles as the confident lower and upper bound. The dataset will be split into different groups based on the trip_seconds, and IQR will be calculated at each time slot. Since most features are right skewed, we will apply the IQR trick on the log space, in order to have a more right skewed range. "
      ],
      "metadata": {}
    },
    {
      "cell_type": "markdown",
      "source": [
        "#### Model the proper fare:\n",
        "\n",
        "base \\$3.25, \\$2.25/mile, \\$0.25/every 36 seconds, assume 6 passengers: add a passenger head count fee of  \\$3.5\n",
        "\nhttps://www.cityofchicago.org/city/en/depts/bacp/supp_info/2012_passenger_information.html"
      ],
      "metadata": {}
    },
    {
      "cell_type": "code",
      "source": [
        "rules = [\n",
        "    {\"thresh\": 200, \"values\": (\"abs_fare_diff\", 50)},\n",
        "    {\"thresh\": np.inf, \"values\": (\"abs_pct_diff\", 1)}\n",
        "]\n",
        "data = outlier.model_fares_outliers(data, rules)"
      ],
      "outputs": [
        {
          "output_type": "stream",
          "name": "stderr",
          "text": [
            "2018-09-25 01:29:31 - INFO - 0.28076% satisfied rules 0\n",
            "2018-09-25 01:29:35 - INFO - 3.21494% satisfied rules 1\n"
          ]
        }
      ],
      "execution_count": 12,
      "metadata": {
        "ExecuteTime": {
          "end_time": "2018-09-25T08:29:36.708638Z",
          "start_time": "2018-09-25T08:29:09.312869Z"
        }
      }
    },
    {
      "cell_type": "code",
      "source": [
        "data.loc[7180:7190,:][['taxi_id', 'trip_seconds', 'trip_miles', 'model_miles','fare', 'model_fare', 'abs_fare_diff', 'abs_fare_diff', 'abs_pct_diff', 'Model_outliers']]"
      ],
      "outputs": [
        {
          "output_type": "execute_result",
          "execution_count": 13,
          "data": {
            "text/html": [
              "<div>\n",
              "<style scoped>\n",
              "    .dataframe tbody tr th:only-of-type {\n",
              "        vertical-align: middle;\n",
              "    }\n",
              "\n",
              "    .dataframe tbody tr th {\n",
              "        vertical-align: top;\n",
              "    }\n",
              "\n",
              "    .dataframe thead th {\n",
              "        text-align: right;\n",
              "    }\n",
              "</style>\n",
              "<table border=\"1\" class=\"dataframe\">\n",
              "  <thead>\n",
              "    <tr style=\"text-align: right;\">\n",
              "      <th></th>\n",
              "      <th>taxi_id</th>\n",
              "      <th>trip_seconds</th>\n",
              "      <th>trip_miles</th>\n",
              "      <th>model_miles</th>\n",
              "      <th>fare</th>\n",
              "      <th>model_fare</th>\n",
              "      <th>abs_fare_diff</th>\n",
              "      <th>abs_fare_diff</th>\n",
              "      <th>abs_pct_diff</th>\n",
              "      <th>Model_outliers</th>\n",
              "    </tr>\n",
              "  </thead>\n",
              "  <tbody>\n",
              "    <tr>\n",
              "      <th>7180</th>\n",
              "      <td>10</td>\n",
              "      <td>1080.0</td>\n",
              "      <td>6.9</td>\n",
              "      <td>4.429627</td>\n",
              "      <td>16.85</td>\n",
              "      <td>29.775000</td>\n",
              "      <td>12.925000</td>\n",
              "      <td>12.925000</td>\n",
              "      <td>0.434089</td>\n",
              "      <td>0</td>\n",
              "    </tr>\n",
              "    <tr>\n",
              "      <th>7181</th>\n",
              "      <td>10</td>\n",
              "      <td>660.0</td>\n",
              "      <td>1.0</td>\n",
              "      <td>0.607257</td>\n",
              "      <td>7.25</td>\n",
              "      <td>13.583333</td>\n",
              "      <td>6.333333</td>\n",
              "      <td>6.333333</td>\n",
              "      <td>0.466258</td>\n",
              "      <td>0</td>\n",
              "    </tr>\n",
              "    <tr>\n",
              "      <th>7182</th>\n",
              "      <td>10</td>\n",
              "      <td>2640.0</td>\n",
              "      <td>15.9</td>\n",
              "      <td>13.362553</td>\n",
              "      <td>31.05</td>\n",
              "      <td>60.858333</td>\n",
              "      <td>29.808333</td>\n",
              "      <td>29.808333</td>\n",
              "      <td>0.489799</td>\n",
              "      <td>0</td>\n",
              "    </tr>\n",
              "    <tr>\n",
              "      <th>7183</th>\n",
              "      <td>10</td>\n",
              "      <td>1080.0</td>\n",
              "      <td>2.7</td>\n",
              "      <td>2.290734</td>\n",
              "      <td>10.85</td>\n",
              "      <td>20.325000</td>\n",
              "      <td>9.475000</td>\n",
              "      <td>9.475000</td>\n",
              "      <td>0.466175</td>\n",
              "      <td>0</td>\n",
              "    </tr>\n",
              "    <tr>\n",
              "      <th>7184</th>\n",
              "      <td>10</td>\n",
              "      <td>1860.0</td>\n",
              "      <td>4.7</td>\n",
              "      <td>3.799229</td>\n",
              "      <td>16.45</td>\n",
              "      <td>30.241667</td>\n",
              "      <td>13.791667</td>\n",
              "      <td>13.791667</td>\n",
              "      <td>0.456048</td>\n",
              "      <td>0</td>\n",
              "    </tr>\n",
              "    <tr>\n",
              "      <th>7185</th>\n",
              "      <td>10</td>\n",
              "      <td>720.0</td>\n",
              "      <td>0.0</td>\n",
              "      <td>1.720717</td>\n",
              "      <td>8.65</td>\n",
              "      <td>15.621614</td>\n",
              "      <td>6.971614</td>\n",
              "      <td>6.971614</td>\n",
              "      <td>0.446280</td>\n",
              "      <td>0</td>\n",
              "    </tr>\n",
              "    <tr>\n",
              "      <th>7186</th>\n",
              "      <td>10</td>\n",
              "      <td>1380.0</td>\n",
              "      <td>6.4</td>\n",
              "      <td>4.522127</td>\n",
              "      <td>16.65</td>\n",
              "      <td>30.733333</td>\n",
              "      <td>14.083333</td>\n",
              "      <td>14.083333</td>\n",
              "      <td>0.458243</td>\n",
              "      <td>0</td>\n",
              "    </tr>\n",
              "    <tr>\n",
              "      <th>7187</th>\n",
              "      <td>10</td>\n",
              "      <td>2040.0</td>\n",
              "      <td>6.0</td>\n",
              "      <td>3.745028</td>\n",
              "      <td>18.25</td>\n",
              "      <td>34.416667</td>\n",
              "      <td>16.166667</td>\n",
              "      <td>16.166667</td>\n",
              "      <td>0.469734</td>\n",
              "      <td>0</td>\n",
              "    </tr>\n",
              "    <tr>\n",
              "      <th>7188</th>\n",
              "      <td>10</td>\n",
              "      <td>2520.0</td>\n",
              "      <td>12.8</td>\n",
              "      <td>12.665934</td>\n",
              "      <td>30.65</td>\n",
              "      <td>53.050000</td>\n",
              "      <td>22.400000</td>\n",
              "      <td>22.400000</td>\n",
              "      <td>0.422243</td>\n",
              "      <td>0</td>\n",
              "    </tr>\n",
              "    <tr>\n",
              "      <th>7189</th>\n",
              "      <td>10</td>\n",
              "      <td>420.0</td>\n",
              "      <td>1.8</td>\n",
              "      <td>1.799025</td>\n",
              "      <td>7.05</td>\n",
              "      <td>13.716667</td>\n",
              "      <td>6.666667</td>\n",
              "      <td>6.666667</td>\n",
              "      <td>0.486027</td>\n",
              "      <td>0</td>\n",
              "    </tr>\n",
              "    <tr>\n",
              "      <th>7190</th>\n",
              "      <td>10</td>\n",
              "      <td>300.0</td>\n",
              "      <td>0.5</td>\n",
              "      <td>0.526248</td>\n",
              "      <td>5.05</td>\n",
              "      <td>10.017391</td>\n",
              "      <td>4.967391</td>\n",
              "      <td>4.967391</td>\n",
              "      <td>0.495877</td>\n",
              "      <td>0</td>\n",
              "    </tr>\n",
              "  </tbody>\n",
              "</table>\n",
              "</div>"
            ],
            "text/plain": [
              "      taxi_id  trip_seconds  trip_miles  model_miles   fare  model_fare  \\\n",
              "7180       10        1080.0         6.9     4.429627  16.85   29.775000   \n",
              "7181       10         660.0         1.0     0.607257   7.25   13.583333   \n",
              "7182       10        2640.0        15.9    13.362553  31.05   60.858333   \n",
              "7183       10        1080.0         2.7     2.290734  10.85   20.325000   \n",
              "7184       10        1860.0         4.7     3.799229  16.45   30.241667   \n",
              "7185       10         720.0         0.0     1.720717   8.65   15.621614   \n",
              "7186       10        1380.0         6.4     4.522127  16.65   30.733333   \n",
              "7187       10        2040.0         6.0     3.745028  18.25   34.416667   \n",
              "7188       10        2520.0        12.8    12.665934  30.65   53.050000   \n",
              "7189       10         420.0         1.8     1.799025   7.05   13.716667   \n",
              "7190       10         300.0         0.5     0.526248   5.05   10.017391   \n",
              "\n",
              "      abs_fare_diff  abs_fare_diff  abs_pct_diff  Model_outliers  \n",
              "7180      12.925000      12.925000      0.434089               0  \n",
              "7181       6.333333       6.333333      0.466258               0  \n",
              "7182      29.808333      29.808333      0.489799               0  \n",
              "7183       9.475000       9.475000      0.466175               0  \n",
              "7184      13.791667      13.791667      0.456048               0  \n",
              "7185       6.971614       6.971614      0.446280               0  \n",
              "7186      14.083333      14.083333      0.458243               0  \n",
              "7187      16.166667      16.166667      0.469734               0  \n",
              "7188      22.400000      22.400000      0.422243               0  \n",
              "7189       6.666667       6.666667      0.486027               0  \n",
              "7190       4.967391       4.967391      0.495877               0  "
            ]
          },
          "metadata": {}
        }
      ],
      "execution_count": 13,
      "metadata": {
        "ExecuteTime": {
          "end_time": "2018-09-25T08:29:37.106693Z",
          "start_time": "2018-09-25T08:29:36.714623Z"
        }
      }
    },
    {
      "cell_type": "markdown",
      "source": [
        "#### Group the trips in a certain time range (every 10 minutes for trip shorter than 1 hour, every 1 hour for trip longer than 1 hour), log-normal the trip_total and find the outliers based on 1.5IQR rule."
      ],
      "metadata": {}
    },
    {
      "cell_type": "code",
      "source": [
        "data, report =  outlier.time_range_outliers(data, IQR=1.5)"
      ],
      "outputs": [
        {
          "output_type": "stream",
          "name": "stderr",
          "text": [
            "2018-09-25 01:29:48 - INFO - 00 min ~ 10 min: 6.00822% are outside IQR range\n",
            "2018-09-25 01:29:55 - INFO - 10 min ~ 20 min: 2.23460% are outside IQR range\n",
            "2018-09-25 01:29:57 - INFO - 20 min ~ 30 min: 0.03080% are outside IQR range\n",
            "2018-09-25 01:29:58 - INFO - 30 min ~ 40 min: 2.95886% are outside IQR range\n",
            "2018-09-25 01:29:58 - INFO - 40 min ~ 50 min: 10.20296% are outside IQR range\n",
            "2018-09-25 01:29:59 - INFO - 50 min ~ 00 min: 9.90977% are outside IQR range\n",
            "2018-09-25 01:29:59 - INFO - 01 hr ~ 02 hr: 10.33739% are outside IQR range\n",
            "2018-09-25 01:30:00 - INFO - 02 hr ~ 03 hr: 11.15826% are outside IQR range\n",
            "2018-09-25 01:30:00 - INFO - 03 hr ~ 04 hr: 23.18034% are outside IQR range\n",
            "2018-09-25 01:30:00 - INFO - 04 hr ~ 05 hr: 0.10331% are outside IQR range\n",
            "2018-09-25 01:30:00 - INFO - 05 hr ~ 06 hr: 0.00000% are outside IQR range\n",
            "2018-09-25 01:30:00 - INFO - 06 hr ~ 07 hr: 0.00000% are outside IQR range\n",
            "2018-09-25 01:30:00 - INFO - 07 hr ~ 08 hr: 1.25786% are outside IQR range\n",
            "2018-09-25 01:30:00 - INFO - 08 hr ~ 09 hr: 1.28755% are outside IQR range\n",
            "2018-09-25 01:30:01 - INFO - 09 hr ~ 10 hr: 1.39860% are outside IQR range\n",
            "2018-09-25 01:30:01 - INFO - 10 hr ~ 11 hr: 6.08899% are outside IQR range\n",
            "2018-09-25 01:30:01 - INFO - 11 hr ~ 12 hr: 4.93506% are outside IQR range\n",
            "2018-09-25 01:30:01 - INFO - 12 hr ~ 13 hr: 3.30969% are outside IQR range\n",
            "2018-09-25 01:30:01 - INFO - 13 hr ~ 14 hr: 5.02959% are outside IQR range\n",
            "2018-09-25 01:30:01 - INFO - 14 hr ~ 15 hr: 4.29448% are outside IQR range\n",
            "2018-09-25 01:30:01 - INFO - 15 hr ~ 16 hr: 4.67290% are outside IQR range\n",
            "2018-09-25 01:30:02 - INFO - 16 hr ~ 17 hr: 5.52995% are outside IQR range\n",
            "2018-09-25 01:30:02 - INFO - 17 hr ~ 18 hr: 4.38596% are outside IQR range\n",
            "2018-09-25 01:30:02 - INFO - 18 hr ~ 19 hr: 7.50000% are outside IQR range\n",
            "2018-09-25 01:30:02 - INFO - 19 hr ~ 20 hr: 2.40964% are outside IQR range\n",
            "2018-09-25 01:30:02 - INFO - 20 hr ~ 21 hr: 12.04819% are outside IQR range\n",
            "2018-09-25 01:30:02 - INFO - 21 hr ~ 22 hr: 33.33333% are outside IQR range\n",
            "2018-09-25 01:30:02 - INFO - 22 hr ~ 23 hr: 8.33333% are outside IQR range\n",
            "2018-09-25 01:30:03 - INFO - 23 hr ~ 00 hr: 0.63291% are outside IQR range\n"
          ]
        }
      ],
      "execution_count": 14,
      "metadata": {
        "ExecuteTime": {
          "end_time": "2018-09-25T08:30:21.297369Z",
          "start_time": "2018-09-25T08:29:37.110594Z"
        }
      }
    },
    {
      "cell_type": "code",
      "source": [
        "report"
      ],
      "outputs": [
        {
          "output_type": "execute_result",
          "execution_count": 15,
          "data": {
            "text/html": [
              "<div>\n",
              "<style scoped>\n",
              "    .dataframe tbody tr th:only-of-type {\n",
              "        vertical-align: middle;\n",
              "    }\n",
              "\n",
              "    .dataframe tbody tr th {\n",
              "        vertical-align: top;\n",
              "    }\n",
              "\n",
              "    .dataframe thead th {\n",
              "        text-align: right;\n",
              "    }\n",
              "</style>\n",
              "<table border=\"1\" class=\"dataframe\">\n",
              "  <thead>\n",
              "    <tr style=\"text-align: right;\">\n",
              "      <th></th>\n",
              "      <th>avg_fare</th>\n",
              "      <th>avg_model_fare</th>\n",
              "      <th>lower</th>\n",
              "      <th>time</th>\n",
              "      <th>upper</th>\n",
              "    </tr>\n",
              "  </thead>\n",
              "  <tbody>\n",
              "    <tr>\n",
              "      <th>0</th>\n",
              "      <td>8.047792</td>\n",
              "      <td>11.025545</td>\n",
              "      <td>3.065674</td>\n",
              "      <td>00 min ~ 10 min</td>\n",
              "      <td>17.174040</td>\n",
              "    </tr>\n",
              "    <tr>\n",
              "      <th>1</th>\n",
              "      <td>11.336157</td>\n",
              "      <td>19.743235</td>\n",
              "      <td>5.212728</td>\n",
              "      <td>10 min ~ 20 min</td>\n",
              "      <td>25.470830</td>\n",
              "    </tr>\n",
              "    <tr>\n",
              "      <th>2</th>\n",
              "      <td>23.871406</td>\n",
              "      <td>37.813061</td>\n",
              "      <td>4.896527</td>\n",
              "      <td>20 min ~ 30 min</td>\n",
              "      <td>128.023912</td>\n",
              "    </tr>\n",
              "    <tr>\n",
              "      <th>3</th>\n",
              "      <td>32.000411</td>\n",
              "      <td>50.753552</td>\n",
              "      <td>16.184592</td>\n",
              "      <td>30 min ~ 40 min</td>\n",
              "      <td>84.359571</td>\n",
              "    </tr>\n",
              "    <tr>\n",
              "      <th>4</th>\n",
              "      <td>36.458684</td>\n",
              "      <td>59.236546</td>\n",
              "      <td>25.609514</td>\n",
              "      <td>40 min ~ 50 min</td>\n",
              "      <td>69.555986</td>\n",
              "    </tr>\n",
              "    <tr>\n",
              "      <th>5</th>\n",
              "      <td>39.464127</td>\n",
              "      <td>65.432369</td>\n",
              "      <td>29.202294</td>\n",
              "      <td>50 min ~ 00 min</td>\n",
              "      <td>68.709071</td>\n",
              "    </tr>\n",
              "    <tr>\n",
              "      <th>6</th>\n",
              "      <td>46.277086</td>\n",
              "      <td>75.323406</td>\n",
              "      <td>30.138534</td>\n",
              "      <td>01 hr ~ 02 hr</td>\n",
              "      <td>79.940932</td>\n",
              "    </tr>\n",
              "    <tr>\n",
              "      <th>7</th>\n",
              "      <td>76.813751</td>\n",
              "      <td>112.565396</td>\n",
              "      <td>27.720055</td>\n",
              "      <td>02 hr ~ 03 hr</td>\n",
              "      <td>171.059637</td>\n",
              "    </tr>\n",
              "    <tr>\n",
              "      <th>8</th>\n",
              "      <td>99.083894</td>\n",
              "      <td>144.100779</td>\n",
              "      <td>30.920214</td>\n",
              "      <td>03 hr ~ 04 hr</td>\n",
              "      <td>230.261747</td>\n",
              "    </tr>\n",
              "    <tr>\n",
              "      <th>9</th>\n",
              "      <td>62.097319</td>\n",
              "      <td>134.669964</td>\n",
              "      <td>0.277310</td>\n",
              "      <td>04 hr ~ 05 hr</td>\n",
              "      <td>3197.184464</td>\n",
              "    </tr>\n",
              "    <tr>\n",
              "      <th>10</th>\n",
              "      <td>69.870524</td>\n",
              "      <td>172.890711</td>\n",
              "      <td>0.158832</td>\n",
              "      <td>05 hr ~ 06 hr</td>\n",
              "      <td>5965.496236</td>\n",
              "    </tr>\n",
              "    <tr>\n",
              "      <th>11</th>\n",
              "      <td>58.411018</td>\n",
              "      <td>193.307978</td>\n",
              "      <td>0.167880</td>\n",
              "      <td>06 hr ~ 07 hr</td>\n",
              "      <td>4447.311555</td>\n",
              "    </tr>\n",
              "    <tr>\n",
              "      <th>12</th>\n",
              "      <td>63.684261</td>\n",
              "      <td>217.000882</td>\n",
              "      <td>0.438604</td>\n",
              "      <td>07 hr ~ 08 hr</td>\n",
              "      <td>668.426492</td>\n",
              "    </tr>\n",
              "    <tr>\n",
              "      <th>13</th>\n",
              "      <td>75.339099</td>\n",
              "      <td>238.559914</td>\n",
              "      <td>0.435190</td>\n",
              "      <td>08 hr ~ 09 hr</td>\n",
              "      <td>625.738034</td>\n",
              "    </tr>\n",
              "    <tr>\n",
              "      <th>14</th>\n",
              "      <td>43.192774</td>\n",
              "      <td>257.608070</td>\n",
              "      <td>0.654657</td>\n",
              "      <td>09 hr ~ 10 hr</td>\n",
              "      <td>370.238012</td>\n",
              "    </tr>\n",
              "    <tr>\n",
              "      <th>15</th>\n",
              "      <td>32.515504</td>\n",
              "      <td>281.358508</td>\n",
              "      <td>1.383544</td>\n",
              "      <td>10 hr ~ 11 hr</td>\n",
              "      <td>83.914595</td>\n",
              "    </tr>\n",
              "    <tr>\n",
              "      <th>16</th>\n",
              "      <td>31.507091</td>\n",
              "      <td>309.314204</td>\n",
              "      <td>1.499538</td>\n",
              "      <td>11 hr ~ 12 hr</td>\n",
              "      <td>79.602859</td>\n",
              "    </tr>\n",
              "    <tr>\n",
              "      <th>17</th>\n",
              "      <td>21.741064</td>\n",
              "      <td>331.115683</td>\n",
              "      <td>1.689599</td>\n",
              "      <td>12 hr ~ 13 hr</td>\n",
              "      <td>60.143224</td>\n",
              "    </tr>\n",
              "    <tr>\n",
              "      <th>18</th>\n",
              "      <td>37.337663</td>\n",
              "      <td>360.916205</td>\n",
              "      <td>1.323475</td>\n",
              "      <td>13 hr ~ 14 hr</td>\n",
              "      <td>83.078177</td>\n",
              "    </tr>\n",
              "    <tr>\n",
              "      <th>19</th>\n",
              "      <td>51.470982</td>\n",
              "      <td>379.619103</td>\n",
              "      <td>1.302748</td>\n",
              "      <td>14 hr ~ 15 hr</td>\n",
              "      <td>100.636810</td>\n",
              "    </tr>\n",
              "    <tr>\n",
              "      <th>20</th>\n",
              "      <td>33.986667</td>\n",
              "      <td>408.321358</td>\n",
              "      <td>1.846331</td>\n",
              "      <td>15 hr ~ 16 hr</td>\n",
              "      <td>51.877204</td>\n",
              "    </tr>\n",
              "    <tr>\n",
              "      <th>21</th>\n",
              "      <td>43.400968</td>\n",
              "      <td>426.605247</td>\n",
              "      <td>1.734020</td>\n",
              "      <td>16 hr ~ 17 hr</td>\n",
              "      <td>47.073864</td>\n",
              "    </tr>\n",
              "    <tr>\n",
              "      <th>22</th>\n",
              "      <td>82.585526</td>\n",
              "      <td>461.410198</td>\n",
              "      <td>0.965349</td>\n",
              "      <td>17 hr ~ 18 hr</td>\n",
              "      <td>128.886331</td>\n",
              "    </tr>\n",
              "    <tr>\n",
              "      <th>23</th>\n",
              "      <td>152.087625</td>\n",
              "      <td>479.851471</td>\n",
              "      <td>0.536475</td>\n",
              "      <td>18 hr ~ 19 hr</td>\n",
              "      <td>190.019557</td>\n",
              "    </tr>\n",
              "    <tr>\n",
              "      <th>24</th>\n",
              "      <td>19.267229</td>\n",
              "      <td>503.905548</td>\n",
              "      <td>1.430259</td>\n",
              "      <td>19 hr ~ 20 hr</td>\n",
              "      <td>76.131091</td>\n",
              "    </tr>\n",
              "    <tr>\n",
              "      <th>25</th>\n",
              "      <td>47.616506</td>\n",
              "      <td>527.531999</td>\n",
              "      <td>2.599531</td>\n",
              "      <td>20 hr ~ 21 hr</td>\n",
              "      <td>33.102280</td>\n",
              "    </tr>\n",
              "    <tr>\n",
              "      <th>26</th>\n",
              "      <td>18.051111</td>\n",
              "      <td>549.279170</td>\n",
              "      <td>4.999670</td>\n",
              "      <td>21 hr ~ 22 hr</td>\n",
              "      <td>11.577263</td>\n",
              "    </tr>\n",
              "    <tr>\n",
              "      <th>27</th>\n",
              "      <td>430.155000</td>\n",
              "      <td>579.479929</td>\n",
              "      <td>0.270870</td>\n",
              "      <td>22 hr ~ 23 hr</td>\n",
              "      <td>533.300739</td>\n",
              "    </tr>\n",
              "    <tr>\n",
              "      <th>28</th>\n",
              "      <td>26.068481</td>\n",
              "      <td>604.621227</td>\n",
              "      <td>1.019717</td>\n",
              "      <td>23 hr ~ 00 hr</td>\n",
              "      <td>434.465164</td>\n",
              "    </tr>\n",
              "  </tbody>\n",
              "</table>\n",
              "</div>"
            ],
            "text/plain": [
              "      avg_fare  avg_model_fare      lower             time        upper\n",
              "0     8.047792       11.025545   3.065674  00 min ~ 10 min    17.174040\n",
              "1    11.336157       19.743235   5.212728  10 min ~ 20 min    25.470830\n",
              "2    23.871406       37.813061   4.896527  20 min ~ 30 min   128.023912\n",
              "3    32.000411       50.753552  16.184592  30 min ~ 40 min    84.359571\n",
              "4    36.458684       59.236546  25.609514  40 min ~ 50 min    69.555986\n",
              "5    39.464127       65.432369  29.202294  50 min ~ 00 min    68.709071\n",
              "6    46.277086       75.323406  30.138534    01 hr ~ 02 hr    79.940932\n",
              "7    76.813751      112.565396  27.720055    02 hr ~ 03 hr   171.059637\n",
              "8    99.083894      144.100779  30.920214    03 hr ~ 04 hr   230.261747\n",
              "9    62.097319      134.669964   0.277310    04 hr ~ 05 hr  3197.184464\n",
              "10   69.870524      172.890711   0.158832    05 hr ~ 06 hr  5965.496236\n",
              "11   58.411018      193.307978   0.167880    06 hr ~ 07 hr  4447.311555\n",
              "12   63.684261      217.000882   0.438604    07 hr ~ 08 hr   668.426492\n",
              "13   75.339099      238.559914   0.435190    08 hr ~ 09 hr   625.738034\n",
              "14   43.192774      257.608070   0.654657    09 hr ~ 10 hr   370.238012\n",
              "15   32.515504      281.358508   1.383544    10 hr ~ 11 hr    83.914595\n",
              "16   31.507091      309.314204   1.499538    11 hr ~ 12 hr    79.602859\n",
              "17   21.741064      331.115683   1.689599    12 hr ~ 13 hr    60.143224\n",
              "18   37.337663      360.916205   1.323475    13 hr ~ 14 hr    83.078177\n",
              "19   51.470982      379.619103   1.302748    14 hr ~ 15 hr   100.636810\n",
              "20   33.986667      408.321358   1.846331    15 hr ~ 16 hr    51.877204\n",
              "21   43.400968      426.605247   1.734020    16 hr ~ 17 hr    47.073864\n",
              "22   82.585526      461.410198   0.965349    17 hr ~ 18 hr   128.886331\n",
              "23  152.087625      479.851471   0.536475    18 hr ~ 19 hr   190.019557\n",
              "24   19.267229      503.905548   1.430259    19 hr ~ 20 hr    76.131091\n",
              "25   47.616506      527.531999   2.599531    20 hr ~ 21 hr    33.102280\n",
              "26   18.051111      549.279170   4.999670    21 hr ~ 22 hr    11.577263\n",
              "27  430.155000      579.479929   0.270870    22 hr ~ 23 hr   533.300739\n",
              "28   26.068481      604.621227   1.019717    23 hr ~ 00 hr   434.465164"
            ]
          },
          "metadata": {}
        }
      ],
      "execution_count": 15,
      "metadata": {
        "ExecuteTime": {
          "end_time": "2018-09-25T08:30:21.706277Z",
          "start_time": "2018-09-25T08:30:21.345212Z"
        }
      }
    },
    {
      "cell_type": "code",
      "source": [
        "fig, ax = plt.subplots(1,1,figsize=(14,6))\n",
        "\n",
        "N = len(report['time'])\n",
        "ind = np.arange(N)  # the x locations for the groups\n",
        "width = 0.35       # the width of the bars\n",
        "\n",
        "yerr = np.array([report['lower'],  report['upper']])\n",
        "yerr = [report['avg_fare'].values - yerr[0], yerr[1] - report['avg_fare'].values]\n",
        "ax.bar(ind, report['avg_fare'], width, yerr=yerr, label='Avg Fare',log=True)\n",
        "ax.bar(ind + width, report['avg_model_fare'], width, alpha=0.3, label='Modeled Fare',log=True)\n",
        "\n",
        "ax.set_xticks(ind + width / 2)\n",
        "ax.set_xticklabels(report['time'], rotation = 90)\n",
        "l = ax.legend()"
      ],
      "outputs": [
        {
          "output_type": "display_data",
          "data": {
            "image/png": "[encoded data removed]",
            "text/plain": [
              "<Figure size 1008x432 with 1 Axes>"
            ]
          },
          "metadata": {
            "needs_background": "light"
          }
        }
      ],
      "execution_count": 23,
      "metadata": {
        "ExecuteTime": {
          "end_time": "2018-09-25T08:32:25.893176Z",
          "start_time": "2018-09-25T08:32:25.254885Z"
        }
      }
    },
    {
      "cell_type": "markdown",
      "source": [
        "In the graph above, we plotted the average realized fare per transaction (blue bar) and the modeled fare prices (green bar) which is simulated based on our pricing formula. The black line is the confidence interval we calculated based on IQR.\n",
        "\n* As time increases (trip seconds), our modeled price is therefore increasing as well. However, we noticed the realized price is fluctuating which may indicate some noise in our data. We also noticed for time range 4 - 6hrs, the IQR uppper bound can be 10 times larger than the average upper bound, which may indicate some issues in those periods."
      ],
      "metadata": {}
    },
    {
      "cell_type": "markdown",
      "source": [
        "#### Drop rows that satisfy both conditions"
      ],
      "metadata": {}
    },
    {
      "cell_type": "code",
      "source": [
        "cols=['Model_outliers', 'IQR_outlier']\n",
        "outliers = data[cols][data[cols] == 1].dropna().index"
      ],
      "outputs": [],
      "execution_count": 22,
      "metadata": {
        "ExecuteTime": {
          "end_time": "2018-09-24T17:08:54.300941Z",
          "start_time": "2018-09-24T17:08:49.722194Z"
        }
      }
    },
    {
      "cell_type": "code",
      "source": [
        "print(\"{:.5%} dropped\".format(len(outliers)/len(data)))"
      ],
      "outputs": [
        {
          "output_type": "stream",
          "name": "stdout",
          "text": [
            "2.96250% dropped\n"
          ]
        }
      ],
      "execution_count": 25,
      "metadata": {
        "ExecuteTime": {
          "end_time": "2018-09-24T17:12:05.235699Z",
          "start_time": "2018-09-24T17:12:05.128985Z"
        }
      }
    },
    {
      "cell_type": "code",
      "source": [
        "data = data.drop(outliers)\n",
        "save_as_feather(data, 'clean_2015.feather')"
      ],
      "outputs": [],
      "execution_count": 26,
      "metadata": {
        "ExecuteTime": {
          "end_time": "2018-09-24T17:13:09.112716Z",
          "start_time": "2018-09-24T17:12:21.665726Z"
        }
      }
    },
    {
      "cell_type": "markdown",
      "source": [
        "## End-to-end outlier clean for 2016 data\n",
        "\nFor 2016's dataset, the procedures are basically the same. Then we simply run the `end-to-end` function to replicate what we did with 2015's data."
      ],
      "metadata": {
        "ExecuteTime": {
          "end_time": "2018-09-24T17:23:22.796672Z",
          "start_time": "2018-09-24T17:22:32.047487Z"
        }
      }
    },
    {
      "cell_type": "code",
      "source": [
        "from chitaxi.datasets import loader\n",
        "\n\nloader.list_feathers()"
      ],
      "outputs": [
        {
          "output_type": "stream",
          "name": "stdout",
          "text": [
            "2015_features.feather\n",
            "clean_2015.feather\n",
            "data_2016.feather\n"
          ]
        }
      ],
      "execution_count": 18,
      "metadata": {
        "ExecuteTime": {
          "end_time": "2018-09-25T06:43:20.601348Z",
          "start_time": "2018-09-25T06:43:20.389878Z"
        }
      }
    },
    {
      "cell_type": "code",
      "source": [
        "df_2016 = loader.read_feather(\"data_2016.feather\")"
      ],
      "outputs": [
        {
          "output_type": "stream",
          "name": "stderr",
          "text": [
            "C:\\Users\\l5453\\Anaconda3\\envs\\chitaxi\\lib\\site-packages\\pandas\\io\\feather_format.py:112: FutureWarning: `nthreads` argument is deprecated, pass `use_threads` instead\n",
            "  return feather.read_dataframe(path, nthreads=nthreads)\n"
          ]
        }
      ],
      "execution_count": 19,
      "metadata": {
        "ExecuteTime": {
          "end_time": "2018-09-25T06:43:34.593962Z",
          "start_time": "2018-09-25T06:43:20.783860Z"
        }
      }
    },
    {
      "cell_type": "code",
      "source": [
        "df_2016.info(memory_usage='deep')"
      ],
      "outputs": [
        {
          "output_type": "stream",
          "name": "stdout",
          "text": [
            "<class 'pandas.core.frame.DataFrame'>\n",
            "RangeIndex: 19843680 entries, 0 to 19843679\n",
            "Data columns (total 17 columns):\n",
            "index                         int64\n",
            "taxi_id                       int64\n",
            "trip_start_timestamp          datetime64[ns]\n",
            "trip_end_timestamp            datetime64[ns]\n",
            "trip_seconds                  float64\n",
            "trip_miles                    float64\n",
            "fare                          float64\n",
            "tips                          float64\n",
            "tolls                         float64\n",
            "extras                        float64\n",
            "trip_total                    float64\n",
            "payment_type                  object\n",
            "company                       object\n",
            "pickup_centroid_latitude      float64\n",
            "pickup_centroid_longitude     float64\n",
            "dropoff_centroid_latitude     float64\n",
            "dropoff_centroid_longitude    float64\n",
            "dtypes: datetime64[ns](2), float64(11), int64(2), object(2)\n",
            "memory usage: 4.5 GB\n"
          ]
        }
      ],
      "execution_count": 21,
      "metadata": {
        "ExecuteTime": {
          "end_time": "2018-09-25T06:43:37.948985Z",
          "start_time": "2018-09-25T06:43:34.984916Z"
        }
      }
    },
    {
      "cell_type": "code",
      "source": [
        "outlier = Outlier()\n",
        "outlier.end_to_end_clean(df_2016, 'clean_2016.feather')"
      ],
      "outputs": [
        {
          "output_type": "stream",
          "name": "stderr",
          "text": [
            "2018-09-24 23:43:38 - INFO - STEP1: Duplications\n",
            "2018-09-24 23:43:38 - INFO - Orignal - Rows: 19843680\n",
            "2018-09-24 23:43:38 - INFO - Dropping duplications\n",
            "2018-09-24 23:44:11 - INFO - After Drroping - Rows: 19802921\n",
            "2018-09-24 23:44:11 - INFO - Drop Ratio: 0.20540%\n",
            "2018-09-24 23:44:11 - INFO - \n",
            "STEP2: Trips\n",
            "2018-09-24 23:44:11 - INFO - Orignal - Rows: 19802921\n",
            "2018-09-24 23:44:11 - INFO - Dropping any trip_total less than 0.1\n",
            "2018-09-24 23:44:16 - INFO - After Drroping - Rows: 19787102\n",
            "2018-09-24 23:44:16 - INFO - Drop Ratio: 0.07988%\n",
            "2018-09-24 23:44:17 - INFO - \n",
            "STEP3: Miles\n",
            "2018-09-24 23:44:17 - INFO - Orignal - Rows: 19787102\n",
            "2018-09-24 23:44:17 - INFO - Dropping any trip_miles more than 1000\n",
            "2018-09-24 23:44:21 - INFO - After Drroping - Rows: 19784079\n",
            "2018-09-24 23:44:21 - INFO - Drop Ratio: 0.01528%\n",
            "2018-09-24 23:44:21 - INFO - \n",
            "STEP4: Extras\n",
            "2018-09-24 23:44:21 - INFO - Orignal - Rows: 19784079\n",
            "2018-09-24 23:44:21 - INFO - Dropping any extras more than 100\n",
            "2018-09-24 23:44:25 - INFO - After Drroping - Rows: 19783160\n",
            "2018-09-24 23:44:25 - INFO - Drop Ratio: 0.00465%\n",
            "2018-09-24 23:44:26 - INFO - \n",
            "STEP5: NANs\n",
            "2018-09-24 23:44:26 - INFO - Orignal - Rows: 19783160\n",
            "2018-09-24 23:44:26 - INFO - Dropping NA values at trip_seconds\n",
            "2018-09-24 23:44:36 - INFO - After Drroping - Rows: 19782385\n",
            "2018-09-24 23:44:36 - INFO - Drop Ratio: 0.00392%\n",
            "2018-09-24 23:44:36 - INFO - Orignal - Rows: 19782385\n",
            "2018-09-24 23:44:36 - INFO - Dropping NA values at trip_total\n",
            "2018-09-24 23:44:46 - INFO - After Drroping - Rows: 19782103\n",
            "2018-09-24 23:44:46 - INFO - Drop Ratio: 0.00143%\n",
            "2018-09-24 23:44:46 - INFO - \n",
            "STEP6: Fare Models\n",
            "2018-09-24 23:44:56 - INFO - 0.46056% satisfied rules 0\n",
            "2018-09-24 23:44:57 - INFO - 2.61722% satisfied rules 1\n",
            "2018-09-24 23:44:58 - INFO - \n",
            "STEP7: Time Range Model\n",
            "2018-09-24 23:45:00 - INFO - 00 min ~ 10 min: 4.57555% are outside IQR range\n",
            "2018-09-24 23:45:02 - INFO - 10 min ~ 20 min: 2.54213% are outside IQR range\n",
            "2018-09-24 23:45:03 - INFO - 20 min ~ 30 min: 0.02731% are outside IQR range\n",
            "2018-09-24 23:45:04 - INFO - 30 min ~ 40 min: 3.91948% are outside IQR range\n",
            "2018-09-24 23:45:04 - INFO - 40 min ~ 50 min: 10.33254% are outside IQR range\n",
            "2018-09-24 23:45:04 - INFO - 50 min ~ 00 min: 9.59784% are outside IQR range\n",
            "2018-09-24 23:45:05 - INFO - 01 hr ~ 02 hr: 11.39324% are outside IQR range\n",
            "2018-09-24 23:45:05 - INFO - 02 hr ~ 03 hr: 11.52863% are outside IQR range\n",
            "2018-09-24 23:45:05 - INFO - 03 hr ~ 04 hr: 20.73757% are outside IQR range\n",
            "2018-09-24 23:45:05 - INFO - 04 hr ~ 05 hr: 0.19841% are outside IQR range\n",
            "2018-09-24 23:45:05 - INFO - 05 hr ~ 06 hr: 0.00000% are outside IQR range\n",
            "2018-09-24 23:45:05 - INFO - 06 hr ~ 07 hr: 0.20121% are outside IQR range\n",
            "2018-09-24 23:45:05 - INFO - 07 hr ~ 08 hr: 0.00000% are outside IQR range\n",
            "2018-09-24 23:45:05 - INFO - 08 hr ~ 09 hr: 0.67114% are outside IQR range\n",
            "2018-09-24 23:45:05 - INFO - 09 hr ~ 10 hr: 1.49254% are outside IQR range\n",
            "2018-09-24 23:45:05 - INFO - 10 hr ~ 11 hr: 3.15315% are outside IQR range\n",
            "2018-09-24 23:45:06 - INFO - 11 hr ~ 12 hr: 8.86076% are outside IQR range\n",
            "2018-09-24 23:45:06 - INFO - 12 hr ~ 13 hr: 9.25926% are outside IQR range\n",
            "2018-09-24 23:45:06 - INFO - 13 hr ~ 14 hr: 14.70588% are outside IQR range\n",
            "2018-09-24 23:45:06 - INFO - 14 hr ~ 15 hr: 8.66667% are outside IQR range\n",
            "2018-09-24 23:45:06 - INFO - 15 hr ~ 16 hr: 9.88372% are outside IQR range\n",
            "2018-09-24 23:45:06 - INFO - 16 hr ~ 17 hr: 4.31655% are outside IQR range\n",
            "2018-09-24 23:45:06 - INFO - 17 hr ~ 18 hr: 7.01754% are outside IQR range\n",
            "2018-09-24 23:45:06 - INFO - 18 hr ~ 19 hr: 2.56410% are outside IQR range\n",
            "2018-09-24 23:45:06 - INFO - 19 hr ~ 20 hr: 4.44444% are outside IQR range\n",
            "2018-09-24 23:45:06 - INFO - 20 hr ~ 21 hr: 3.22581% are outside IQR range\n",
            "2018-09-24 23:45:06 - INFO - 21 hr ~ 22 hr: 14.28571% are outside IQR range\n",
            "2018-09-24 23:45:07 - INFO - 22 hr ~ 23 hr: 2.63158% are outside IQR range\n",
            "2018-09-24 23:45:07 - INFO - 23 hr ~ 00 hr: 0.40568% are outside IQR range\n",
            "2018-09-24 23:45:10 - INFO - \n",
            "STEP8: Combined Two Models\n",
            "2018-09-24 23:45:10 - INFO - Orignal - Rows: 19782103\n",
            "2018-09-24 23:45:15 - INFO - After Drroping - Rows: 19360499\n",
            "2018-09-24 23:45:15 - INFO - Drop Ratio: 2.13124%\n",
            "2018-09-24 23:45:16 - INFO - DONE!\n"
          ]
        }
      ],
      "execution_count": 22,
      "metadata": {
        "ExecuteTime": {
          "end_time": "2018-09-25T06:45:26.711317Z",
          "start_time": "2018-09-25T06:43:37.949982Z"
        }
      }
    },
    {
      "cell_type": "code",
      "source": [],
      "outputs": [],
      "execution_count": null,
      "metadata": {}
    }
  ],
  "metadata": {
    "hide_input": false,
    "kernelspec": {
      "name": "chitaxi",
      "language": "python",
      "display_name": "chitaxi"
    },
    "language_info": {
      "name": "python",
      "version": "3.6.4",
      "mimetype": "text/x-python",
      "codemirror_mode": {
        "name": "ipython",
        "version": 3
      },
      "pygments_lexer": "ipython3",
      "nbconvert_exporter": "python",
      "file_extension": ".py"
    },
    "toc": {
      "toc_position": {},
      "skip_h1_title": false,
      "number_sections": false,
      "title_cell": "Table of Contents",
      "toc_window_display": false,
      "base_numbering": 1,
      "toc_section_display": true,
      "title_sidebar": "Contents",
      "toc_cell": false,
      "nav_menu": {},
      "sideBar": true
    },
    "kernel_info": {
      "name": "chitaxi"
    },
    "nteract": {
      "version": "0.11.7"
    }
  },
  "nbformat": 4,
  "nbformat_minor": 2
}