{
 "cells": [
  {
   "cell_type": "code",
   "execution_count": 1,
   "metadata": {
    "ExecuteTime": {
     "end_time": "2018-09-25T06:48:35.059995Z",
     "start_time": "2018-09-25T06:48:33.611871Z"
    }
   },
   "outputs": [],
   "source": [
    "import pandas as pd\n",
    "import numpy as np\n",
    "import sklearn\n",
    "import matplotlib as mpl\n",
    "import matplotlib.pyplot as plt\n",
    "import seaborn as sns\n",
    "\n",
    "from chitaxi.datasets import loader, builder\n",
    "\n",
    "# %config InlineBackend.figure_format = 'svg'\n",
    "%load_ext autoreload\n",
    "%autoreload 2\n",
    "plt.style.use('seaborn')\n",
    "mpl.rcParams['legend.frameon'] = True\n",
    "mpl.rcParams['legend.facecolor'] = 'w'"
   ]
  },
  {
   "cell_type": "code",
   "execution_count": 2,
   "metadata": {
    "ExecuteTime": {
     "end_time": "2018-09-25T06:48:35.974547Z",
     "start_time": "2018-09-25T06:48:35.870863Z"
    }
   },
   "outputs": [
    {
     "name": "stdout",
     "output_type": "stream",
     "text": [
      "2015_features.feather\n",
      "clean_2015.feather\n",
      "clean_2016.feather\n",
      "data_2016.feather\n"
     ]
    }
   ],
   "source": [
    "loader.list_feathers()"
   ]
  },
  {
   "cell_type": "markdown",
   "metadata": {},
   "source": [
    "# Chitaxi 02 - Features Generators\n",
    "\n",
    "## Get Labels\n",
    "\n",
    "In this analysis, we are going to use the information per `taxi_id` in 2015 to predict its aggregated future cash flows in 2016. Thus, our label will simply be the aggregated `trip_total` per taxi in 2016. \n",
    "\n",
    "> The outliers have been removed from Outlier section"
   ]
  },
  {
   "cell_type": "code",
   "execution_count": 3,
   "metadata": {
    "ExecuteTime": {
     "end_time": "2018-09-25T06:48:50.439668Z",
     "start_time": "2018-09-25T06:48:43.526340Z"
    }
   },
   "outputs": [
    {
     "name": "stderr",
     "output_type": "stream",
     "text": [
      "C:\\Users\\l5453\\Anaconda3\\envs\\chitaxi\\lib\\site-packages\\pandas\\io\\feather_format.py:112: FutureWarning: `nthreads` argument is deprecated, pass `use_threads` instead\n",
      "  return feather.read_dataframe(path, nthreads=nthreads)\n"
     ]
    }
   ],
   "source": [
    "df_2016 = loader.read_feather('clean_2016.feather')"
   ]
  },
  {
   "cell_type": "code",
   "execution_count": 4,
   "metadata": {
    "ExecuteTime": {
     "end_time": "2018-09-25T06:48:55.266384Z",
     "start_time": "2018-09-25T06:48:54.791615Z"
    }
   },
   "outputs": [],
   "source": [
    "bd = builder.Builder()\n",
    "Y = bd.extract_y(df_2016)"
   ]
  },
  {
   "cell_type": "code",
   "execution_count": 5,
   "metadata": {
    "ExecuteTime": {
     "end_time": "2018-09-25T06:48:55.594466Z",
     "start_time": "2018-09-25T06:48:55.267341Z"
    }
   },
   "outputs": [
    {
     "data": {
      "image/png": "[encoded data removed]",
      "text/plain": [
       "<Figure size 432x288 with 1 Axes>"
      ]
     },
     "metadata": {
      "needs_background": "light"
     },
     "output_type": "display_data"
    }
   ],
   "source": [
    "fig, ax = plt.subplots(1,1)\n",
    "Y.hist(bins=50, ax=ax)\n",
    "ax.set_xlabel('Revenue')\n",
    "ax.set_ylabel('Counts')\n",
    "t = ax.set_title(\"Histogram: Driver Total Cash Flows in 2016\")"
   ]
  },
  {
   "cell_type": "code",
   "execution_count": 7,
   "metadata": {
    "ExecuteTime": {
     "end_time": "2018-09-25T06:51:02.180279Z",
     "start_time": "2018-09-25T06:51:02.077552Z"
    }
   },
   "outputs": [],
   "source": [
    "loader.save_as_feather(Y.reset_index(), \"labels_2016.feather\")"
   ]
  },
  {
   "cell_type": "markdown",
   "metadata": {
    "ExecuteTime": {
     "end_time": "2018-09-24T19:48:12.998093Z",
     "start_time": "2018-09-24T19:48:12.978724Z"
    }
   },
   "source": [
    "## Extract Features from time-series transactions\n",
    "\n",
    "The general idea in this section is to aggregate and flatten the transaction level data into metrics at the monthly level. We are going to cover metrics such as total revenues per months, total trips per months, etc. to something more complicated such as workdays/holidays revenues, daytime/nighttime revenues, etc."
   ]
  },
  {
   "cell_type": "code",
   "execution_count": 3,
   "metadata": {
    "ExecuteTime": {
     "end_time": "2018-09-24T22:39:17.873733Z",
     "start_time": "2018-09-24T22:39:03.280787Z"
    }
   },
   "outputs": [
    {
     "name": "stderr",
     "output_type": "stream",
     "text": [
      "C:\\Users\\l5453\\Anaconda3\\envs\\chitaxi\\lib\\site-packages\\pandas\\io\\feather_format.py:112: FutureWarning: `nthreads` argument is deprecated, pass `use_threads` instead\n",
      "  return feather.read_dataframe(path, nthreads=nthreads)\n"
     ]
    }
   ],
   "source": [
    "# We are using the dataset we have cleaned from the last outliers notebook\n",
    "df_2015 = loader.read_feather('clean_2015.feather')"
   ]
  },
  {
   "cell_type": "markdown",
   "metadata": {
    "ExecuteTime": {
     "end_time": "2018-09-24T19:49:08.022276Z",
     "start_time": "2018-09-24T19:49:08.012698Z"
    }
   },
   "source": [
    "### Pre-Processing: Workdays and Holidays Split\n",
    "\n",
    "* **workday=1**, Mon-Fri and other dates that are not holidays, \n",
    "* **daytime=1** start time from 6am to 7pm"
   ]
  },
  {
   "cell_type": "code",
   "execution_count": 302,
   "metadata": {
    "ExecuteTime": {
     "end_time": "2018-09-25T03:12:51.869769Z",
     "start_time": "2018-09-25T03:12:51.752085Z"
    }
   },
   "outputs": [],
   "source": [
    "fe = builder.FeatureExtraction()"
   ]
  },
  {
   "cell_type": "code",
   "execution_count": 117,
   "metadata": {
    "ExecuteTime": {
     "end_time": "2018-09-24T21:25:46.173534Z",
     "start_time": "2018-09-24T21:13:16.987372Z"
    }
   },
   "outputs": [],
   "source": [
    "df_2015 = fe.assign_workdays(df_2015, start='20150101', end='20151231', speed=True)\n",
    "df_2015 = fe.assign_daytime(df_2015, night_end=6, night_start=19)"
   ]
  },
  {
   "cell_type": "code",
   "execution_count": 17,
   "metadata": {
    "ExecuteTime": {
     "end_time": "2018-09-24T23:35:21.524693Z",
     "start_time": "2018-09-24T23:35:21.423963Z"
    }
   },
   "outputs": [
    {
     "data": {
      "text/html": [
       "<div>\n",
       "<style scoped>\n",
       "    .dataframe tbody tr th:only-of-type {\n",
       "        vertical-align: middle;\n",
       "    }\n",
       "\n",
       "    .dataframe tbody tr th {\n",
       "        vertical-align: top;\n",
       "    }\n",
       "\n",
       "    .dataframe thead th {\n",
       "        text-align: right;\n",
       "    }\n",
       "</style>\n",
       "<table border=\"1\" class=\"dataframe\">\n",
       "  <thead>\n",
       "    <tr style=\"text-align: right;\">\n",
       "      <th></th>\n",
       "      <th>taxi_id</th>\n",
       "      <th>trip_start_timestamp</th>\n",
       "      <th>workday</th>\n",
       "      <th>daytime</th>\n",
       "    </tr>\n",
       "  </thead>\n",
       "  <tbody>\n",
       "    <tr>\n",
       "      <th>0</th>\n",
       "      <td>0</td>\n",
       "      <td>2015-09-15 07:30:00</td>\n",
       "      <td>1</td>\n",
       "      <td>1</td>\n",
       "    </tr>\n",
       "    <tr>\n",
       "      <th>1</th>\n",
       "      <td>0</td>\n",
       "      <td>2015-05-20 13:15:00</td>\n",
       "      <td>1</td>\n",
       "      <td>1</td>\n",
       "    </tr>\n",
       "    <tr>\n",
       "      <th>2</th>\n",
       "      <td>0</td>\n",
       "      <td>2015-08-03 13:15:00</td>\n",
       "      <td>1</td>\n",
       "      <td>1</td>\n",
       "    </tr>\n",
       "    <tr>\n",
       "      <th>3</th>\n",
       "      <td>0</td>\n",
       "      <td>2015-05-07 19:45:00</td>\n",
       "      <td>1</td>\n",
       "      <td>0</td>\n",
       "    </tr>\n",
       "    <tr>\n",
       "      <th>4</th>\n",
       "      <td>0</td>\n",
       "      <td>2015-09-28 03:45:00</td>\n",
       "      <td>1</td>\n",
       "      <td>0</td>\n",
       "    </tr>\n",
       "    <tr>\n",
       "      <th>5</th>\n",
       "      <td>0</td>\n",
       "      <td>2015-05-12 19:00:00</td>\n",
       "      <td>1</td>\n",
       "      <td>0</td>\n",
       "    </tr>\n",
       "    <tr>\n",
       "      <th>6</th>\n",
       "      <td>0</td>\n",
       "      <td>2015-10-02 10:45:00</td>\n",
       "      <td>1</td>\n",
       "      <td>1</td>\n",
       "    </tr>\n",
       "    <tr>\n",
       "      <th>7</th>\n",
       "      <td>0</td>\n",
       "      <td>2015-01-05 22:45:00</td>\n",
       "      <td>1</td>\n",
       "      <td>0</td>\n",
       "    </tr>\n",
       "    <tr>\n",
       "      <th>8</th>\n",
       "      <td>0</td>\n",
       "      <td>2015-02-07 01:30:00</td>\n",
       "      <td>0</td>\n",
       "      <td>0</td>\n",
       "    </tr>\n",
       "    <tr>\n",
       "      <th>9</th>\n",
       "      <td>0</td>\n",
       "      <td>2015-04-28 09:45:00</td>\n",
       "      <td>1</td>\n",
       "      <td>1</td>\n",
       "    </tr>\n",
       "  </tbody>\n",
       "</table>\n",
       "</div>"
      ],
      "text/plain": [
       "   taxi_id trip_start_timestamp  workday  daytime\n",
       "0        0  2015-09-15 07:30:00        1        1\n",
       "1        0  2015-05-20 13:15:00        1        1\n",
       "2        0  2015-08-03 13:15:00        1        1\n",
       "3        0  2015-05-07 19:45:00        1        0\n",
       "4        0  2015-09-28 03:45:00        1        0\n",
       "5        0  2015-05-12 19:00:00        1        0\n",
       "6        0  2015-10-02 10:45:00        1        1\n",
       "7        0  2015-01-05 22:45:00        1        0\n",
       "8        0  2015-02-07 01:30:00        0        0\n",
       "9        0  2015-04-28 09:45:00        1        1"
      ]
     },
     "execution_count": 17,
     "metadata": {},
     "output_type": "execute_result"
    }
   ],
   "source": [
    "df_2015.head(10)[['taxi_id', 'trip_start_timestamp', 'workday', 'daytime']]"
   ]
  },
  {
   "cell_type": "markdown",
   "metadata": {},
   "source": [
    "### Monthly Aggregations\n",
    "\n",
    "### 1. Trip Counts Per Month\n",
    "\n",
    "Aggregate the total number of trips per months per driver."
   ]
  },
  {
   "cell_type": "code",
   "execution_count": 666,
   "metadata": {
    "ExecuteTime": {
     "end_time": "2018-09-25T05:18:46.881266Z",
     "start_time": "2018-09-25T05:18:46.765539Z"
    },
    "scrolled": true
   },
   "outputs": [],
   "source": [
    "# fe.set_resample(df_2015, 'm')\n",
    "groupby = fe.GROUP_BY"
   ]
  },
  {
   "cell_type": "code",
   "execution_count": 667,
   "metadata": {
    "ExecuteTime": {
     "end_time": "2018-09-25T05:18:47.073116Z",
     "start_time": "2018-09-25T05:18:46.980962Z"
    }
   },
   "outputs": [],
   "source": [
    "fe = builder.FeatureExtraction()\n",
    "fe.GROUP_BY = groupby"
   ]
  },
  {
   "cell_type": "code",
   "execution_count": 307,
   "metadata": {
    "ExecuteTime": {
     "end_time": "2018-09-25T03:15:07.156995Z",
     "start_time": "2018-09-25T03:14:50.321879Z"
    }
   },
   "outputs": [],
   "source": [
    "taxi_count = fe.get_trip_counts()"
   ]
  },
  {
   "cell_type": "code",
   "execution_count": 665,
   "metadata": {
    "ExecuteTime": {
     "end_time": "2018-09-25T05:11:05.436442Z",
     "start_time": "2018-09-25T05:11:05.336710Z"
    }
   },
   "outputs": [
    {
     "data": {
      "text/html": [
       "<div>\n",
       "<style scoped>\n",
       "    .dataframe tbody tr th:only-of-type {\n",
       "        vertical-align: middle;\n",
       "    }\n",
       "\n",
       "    .dataframe tbody tr th {\n",
       "        vertical-align: top;\n",
       "    }\n",
       "\n",
       "    .dataframe thead th {\n",
       "        text-align: right;\n",
       "    }\n",
       "</style>\n",
       "<table border=\"1\" class=\"dataframe\">\n",
       "  <thead>\n",
       "    <tr style=\"text-align: right;\">\n",
       "      <th></th>\n",
       "      <th>count_1</th>\n",
       "      <th>count_2</th>\n",
       "      <th>count_3</th>\n",
       "      <th>count_4</th>\n",
       "      <th>count_5</th>\n",
       "      <th>count_6</th>\n",
       "      <th>count_7</th>\n",
       "      <th>count_8</th>\n",
       "      <th>count_9</th>\n",
       "      <th>count_10</th>\n",
       "      <th>count_11</th>\n",
       "      <th>count_12</th>\n",
       "    </tr>\n",
       "    <tr>\n",
       "      <th>taxi_id</th>\n",
       "      <th></th>\n",
       "      <th></th>\n",
       "      <th></th>\n",
       "      <th></th>\n",
       "      <th></th>\n",
       "      <th></th>\n",
       "      <th></th>\n",
       "      <th></th>\n",
       "      <th></th>\n",
       "      <th></th>\n",
       "      <th></th>\n",
       "      <th></th>\n",
       "    </tr>\n",
       "  </thead>\n",
       "  <tbody>\n",
       "    <tr>\n",
       "      <th>0</th>\n",
       "      <td>298.0</td>\n",
       "      <td>467.0</td>\n",
       "      <td>461.0</td>\n",
       "      <td>462.0</td>\n",
       "      <td>476.0</td>\n",
       "      <td>1064.0</td>\n",
       "      <td>587.0</td>\n",
       "      <td>667.0</td>\n",
       "      <td>645.0</td>\n",
       "      <td>778.0</td>\n",
       "      <td>619.0</td>\n",
       "      <td>601.0</td>\n",
       "    </tr>\n",
       "    <tr>\n",
       "      <th>2</th>\n",
       "      <td>635.0</td>\n",
       "      <td>382.0</td>\n",
       "      <td>469.0</td>\n",
       "      <td>517.0</td>\n",
       "      <td>352.0</td>\n",
       "      <td>598.0</td>\n",
       "      <td>382.0</td>\n",
       "      <td>765.0</td>\n",
       "      <td>169.0</td>\n",
       "      <td>0.0</td>\n",
       "      <td>0.0</td>\n",
       "      <td>0.0</td>\n",
       "    </tr>\n",
       "    <tr>\n",
       "      <th>3</th>\n",
       "      <td>445.0</td>\n",
       "      <td>474.0</td>\n",
       "      <td>609.0</td>\n",
       "      <td>526.0</td>\n",
       "      <td>497.0</td>\n",
       "      <td>533.0</td>\n",
       "      <td>560.0</td>\n",
       "      <td>511.0</td>\n",
       "      <td>504.0</td>\n",
       "      <td>560.0</td>\n",
       "      <td>470.0</td>\n",
       "      <td>370.0</td>\n",
       "    </tr>\n",
       "  </tbody>\n",
       "</table>\n",
       "</div>"
      ],
      "text/plain": [
       "         count_1  count_2  count_3  count_4  count_5  count_6  count_7  \\\n",
       "taxi_id                                                                  \n",
       "0          298.0    467.0    461.0    462.0    476.0   1064.0    587.0   \n",
       "2          635.0    382.0    469.0    517.0    352.0    598.0    382.0   \n",
       "3          445.0    474.0    609.0    526.0    497.0    533.0    560.0   \n",
       "\n",
       "         count_8  count_9  count_10  count_11  count_12  \n",
       "taxi_id                                                  \n",
       "0          667.0    645.0     778.0     619.0     601.0  \n",
       "2          765.0    169.0       0.0       0.0       0.0  \n",
       "3          511.0    504.0     560.0     470.0     370.0  "
      ]
     },
     "execution_count": 665,
     "metadata": {},
     "output_type": "execute_result"
    }
   ],
   "source": [
    "taxi_count.head(3)"
   ]
  },
  {
   "cell_type": "code",
   "execution_count": 376,
   "metadata": {
    "ExecuteTime": {
     "end_time": "2018-09-25T03:38:52.970437Z",
     "start_time": "2018-09-25T03:38:52.625326Z"
    }
   },
   "outputs": [
    {
     "data": {
      "image/png": "[encoded data removed]",
      "text/plain": [
       "<Figure size 1008x360 with 2 Axes>"
      ]
     },
     "metadata": {
      "needs_background": "light"
     },
     "output_type": "display_data"
    }
   ],
   "source": [
    "fig, ax = plt.subplots(1,2,figsize=(14,5))\n",
    "\n",
    "taxi_count.mean(axis=0).plot(ylim=(250,400), ax=ax[0], xticks=np.arange(12), rot=45, title='Monthly Time Series')\n",
    "taxi_count.mean(axis=1).hist(ax=ax[1])\n",
    "ax[1].set_title('Histogram: Per Driver Per Year')\n",
    "t = fig.suptitle('2015 Chitaxi Average Trip Counts', fontsize=14, fontweight=700)"
   ]
  },
  {
   "cell_type": "markdown",
   "metadata": {},
   "source": [
    "We noticed the general trend of trips seems declining over year. This might be caused partially by the seasonality and influenced by the harder and harder competition with companies such as Uber and Lyft. \n",
    "\n",
    "Reference: https://www.usatoday.com/story/news/2017/06/05/chicago-cabbies-say-industry-teetering-toward-collapse/102524634/"
   ]
  },
  {
   "cell_type": "markdown",
   "metadata": {
    "ExecuteTime": {
     "end_time": "2018-09-25T00:19:00.366977Z",
     "start_time": "2018-09-25T00:19:00.159490Z"
    }
   },
   "source": [
    "### 2. Trip Total Per Month\n",
    "\n",
    "Similar to the counts of trips, we also aggregate the `trip_total` which would be the total revenue per month per driver.\n",
    "\n",
    "Then trend is aligned with what we discovered before. The histogram indicates that the distribution is also close to 2016's. While most taxies had around 7K per month, we also observed a large volume of small revenues around 0."
   ]
  },
  {
   "cell_type": "code",
   "execution_count": 309,
   "metadata": {
    "ExecuteTime": {
     "end_time": "2018-09-25T03:15:09.788593Z",
     "start_time": "2018-09-25T03:15:08.106063Z"
    }
   },
   "outputs": [],
   "source": [
    "taxi_sum = fe.get_trip_total()"
   ]
  },
  {
   "cell_type": "code",
   "execution_count": 663,
   "metadata": {
    "ExecuteTime": {
     "end_time": "2018-09-25T05:10:48.799455Z",
     "start_time": "2018-09-25T05:10:48.688754Z"
    }
   },
   "outputs": [
    {
     "data": {
      "text/html": [
       "<div>\n",
       "<style scoped>\n",
       "    .dataframe tbody tr th:only-of-type {\n",
       "        vertical-align: middle;\n",
       "    }\n",
       "\n",
       "    .dataframe tbody tr th {\n",
       "        vertical-align: top;\n",
       "    }\n",
       "\n",
       "    .dataframe thead th {\n",
       "        text-align: right;\n",
       "    }\n",
       "</style>\n",
       "<table border=\"1\" class=\"dataframe\">\n",
       "  <thead>\n",
       "    <tr style=\"text-align: right;\">\n",
       "      <th></th>\n",
       "      <th>total_sum_1</th>\n",
       "      <th>total_sum_2</th>\n",
       "      <th>total_sum_3</th>\n",
       "      <th>total_sum_4</th>\n",
       "      <th>total_sum_5</th>\n",
       "      <th>total_sum_6</th>\n",
       "      <th>total_sum_7</th>\n",
       "      <th>total_sum_8</th>\n",
       "      <th>total_sum_9</th>\n",
       "      <th>total_sum_10</th>\n",
       "      <th>total_sum_11</th>\n",
       "      <th>total_sum_12</th>\n",
       "    </tr>\n",
       "    <tr>\n",
       "      <th>taxi_id</th>\n",
       "      <th></th>\n",
       "      <th></th>\n",
       "      <th></th>\n",
       "      <th></th>\n",
       "      <th></th>\n",
       "      <th></th>\n",
       "      <th></th>\n",
       "      <th></th>\n",
       "      <th></th>\n",
       "      <th></th>\n",
       "      <th></th>\n",
       "      <th></th>\n",
       "    </tr>\n",
       "  </thead>\n",
       "  <tbody>\n",
       "    <tr>\n",
       "      <th>0</th>\n",
       "      <td>5194.07</td>\n",
       "      <td>8397.45</td>\n",
       "      <td>8278.91</td>\n",
       "      <td>7619.70</td>\n",
       "      <td>8336.38</td>\n",
       "      <td>11919.99</td>\n",
       "      <td>7111.31</td>\n",
       "      <td>8156.02</td>\n",
       "      <td>10838.18</td>\n",
       "      <td>12135.44</td>\n",
       "      <td>8947.49</td>\n",
       "      <td>6830.32</td>\n",
       "    </tr>\n",
       "    <tr>\n",
       "      <th>2</th>\n",
       "      <td>7003.05</td>\n",
       "      <td>4319.82</td>\n",
       "      <td>5682.80</td>\n",
       "      <td>6071.85</td>\n",
       "      <td>4105.73</td>\n",
       "      <td>7536.61</td>\n",
       "      <td>4645.43</td>\n",
       "      <td>8027.02</td>\n",
       "      <td>1840.01</td>\n",
       "      <td>0.00</td>\n",
       "      <td>0.00</td>\n",
       "      <td>0.00</td>\n",
       "    </tr>\n",
       "    <tr>\n",
       "      <th>3</th>\n",
       "      <td>7057.64</td>\n",
       "      <td>6978.48</td>\n",
       "      <td>7944.19</td>\n",
       "      <td>7990.65</td>\n",
       "      <td>8039.19</td>\n",
       "      <td>8295.23</td>\n",
       "      <td>7946.26</td>\n",
       "      <td>7541.35</td>\n",
       "      <td>7370.00</td>\n",
       "      <td>7962.35</td>\n",
       "      <td>6929.20</td>\n",
       "      <td>5280.95</td>\n",
       "    </tr>\n",
       "  </tbody>\n",
       "</table>\n",
       "</div>"
      ],
      "text/plain": [
       "         total_sum_1  total_sum_2  total_sum_3  total_sum_4  total_sum_5  \\\n",
       "taxi_id                                                                    \n",
       "0            5194.07      8397.45      8278.91      7619.70      8336.38   \n",
       "2            7003.05      4319.82      5682.80      6071.85      4105.73   \n",
       "3            7057.64      6978.48      7944.19      7990.65      8039.19   \n",
       "\n",
       "         total_sum_6  total_sum_7  total_sum_8  total_sum_9  total_sum_10  \\\n",
       "taxi_id                                                                     \n",
       "0           11919.99      7111.31      8156.02     10838.18      12135.44   \n",
       "2            7536.61      4645.43      8027.02      1840.01          0.00   \n",
       "3            8295.23      7946.26      7541.35      7370.00       7962.35   \n",
       "\n",
       "         total_sum_11  total_sum_12  \n",
       "taxi_id                              \n",
       "0             8947.49       6830.32  \n",
       "2                0.00          0.00  \n",
       "3             6929.20       5280.95  "
      ]
     },
     "execution_count": 663,
     "metadata": {},
     "output_type": "execute_result"
    }
   ],
   "source": [
    "taxi_sum.head(3)"
   ]
  },
  {
   "cell_type": "code",
   "execution_count": 375,
   "metadata": {
    "ExecuteTime": {
     "end_time": "2018-09-25T03:38:41.289647Z",
     "start_time": "2018-09-25T03:38:40.943575Z"
    }
   },
   "outputs": [
    {
     "data": {
      "image/png": "[encoded data removed]",
      "text/plain": [
       "<Figure size 1008x360 with 2 Axes>"
      ]
     },
     "metadata": {
      "needs_background": "light"
     },
     "output_type": "display_data"
    }
   ],
   "source": [
    "fig, ax = plt.subplots(1,2,figsize=(14,5))\n",
    "\n",
    "taxi_sum.mean(axis=0).plot(ylim=(3000,5000), ax=ax[0], xticks=np.arange(12), rot=45, title='Monthly Time Series')\n",
    "taxi_sum.mean(axis=1).hist(ax=ax[1])\n",
    "ax[1].set_title('Histogram: Per Driver Per Year')\n",
    "ax[0].set_ylabel('dollars')\n",
    "t = fig.suptitle('2015 Chitaxi Average Trip Total ($)', fontsize=14, fontweight=700)"
   ]
  },
  {
   "cell_type": "markdown",
   "metadata": {},
   "source": [
    "### 3. Trip Miles and Seconds\n",
    "\n",
    "The miles and trip seconds (time) are relative more noisy than other monetary metrics. While we cleaning data, we noticed there are a lot transactions that have mismatched miles and seconds. (Very long trip with almost no driving time or very long driving time without trip miles)\n",
    "\n",
    "By removing those outstanding outliers, we have their distributions as below:"
   ]
  },
  {
   "cell_type": "code",
   "execution_count": 669,
   "metadata": {
    "ExecuteTime": {
     "end_time": "2018-09-25T05:19:16.430641Z",
     "start_time": "2018-09-25T05:18:53.643880Z"
    }
   },
   "outputs": [],
   "source": [
    "taxi_miles = fe.get_trip_miles()"
   ]
  },
  {
   "cell_type": "code",
   "execution_count": 670,
   "metadata": {
    "ExecuteTime": {
     "end_time": "2018-09-25T05:19:18.130687Z",
     "start_time": "2018-09-25T05:19:16.430641Z"
    }
   },
   "outputs": [],
   "source": [
    "taxi_seconds = fe.get_trip_seconds()"
   ]
  },
  {
   "cell_type": "code",
   "execution_count": 677,
   "metadata": {
    "ExecuteTime": {
     "end_time": "2018-09-25T05:33:46.815561Z",
     "start_time": "2018-09-25T05:33:46.444629Z"
    }
   },
   "outputs": [
    {
     "data": {
      "image/png": "[encoded data removed]",
      "text/plain": [
       "<Figure size 1008x360 with 2 Axes>"
      ]
     },
     "metadata": {
      "needs_background": "light"
     },
     "output_type": "display_data"
    }
   ],
   "source": [
    "fig, ax = plt.subplots(1,2,figsize=(14,5))\n",
    "\n",
    "taxi_miles.mean(axis=0).plot(ax=ax[0], xticks=np.arange(12), rot=45, title='Monthly Time Series')\n",
    "taxi_miles.mean(axis=1).hist(ax=ax[1],bins=30)\n",
    "ax[1].set_title('Histogram: Per Driver Per Year')\n",
    "ax[1].set_xlabel('Miles')\n",
    "t = fig.suptitle('2015 Chitaxi Average Trip Miles', fontsize=14, fontweight=700)"
   ]
  },
  {
   "cell_type": "code",
   "execution_count": 678,
   "metadata": {
    "ExecuteTime": {
     "end_time": "2018-09-25T05:33:59.358910Z",
     "start_time": "2018-09-25T05:33:58.971944Z"
    },
    "scrolled": false
   },
   "outputs": [
    {
     "data": {
      "image/png": "[encoded data removed]",
      "text/plain": [
       "<Figure size 1008x360 with 2 Axes>"
      ]
     },
     "metadata": {
      "needs_background": "light"
     },
     "output_type": "display_data"
    }
   ],
   "source": [
    "fig, ax = plt.subplots(1,2,figsize=(14,5))\n",
    "\n",
    "taxi_seconds.mean(axis=0).plot(ax=ax[0], xticks=np.arange(12), rot=45, title='Monthly Time Series')\n",
    "taxi_seconds.mean(axis=1).hist(ax=ax[1],bins=30)\n",
    "ax[1].set_title('Histogram: Per Driver Per Year')\n",
    "ax[1].set_xlabel('Seconds')\n",
    "t = fig.suptitle('2015 Chitaxi Average Trip Seconds', fontsize=14, fontweight=700)"
   ]
  },
  {
   "cell_type": "markdown",
   "metadata": {
    "ExecuteTime": {
     "end_time": "2018-09-24T21:11:14.459030Z",
     "start_time": "2018-09-24T21:11:03.169832Z"
    }
   },
   "source": [
    "### 4. Workday vs. Holidays&Weekends trip_total percentage\n",
    "\n",
    "We are expecting taxies should have more revenues over workdays instead of holidays/weekends, simply because we have more workdays in a calendar year. \n",
    "\n",
    "The empirical finding shows we have around 0.35:0.65 ratio towards per taxi's workday/holiday revenues."
   ]
  },
  {
   "cell_type": "code",
   "execution_count": 311,
   "metadata": {
    "ExecuteTime": {
     "end_time": "2018-09-25T03:18:15.402865Z",
     "start_time": "2018-09-25T03:15:10.224392Z"
    }
   },
   "outputs": [],
   "source": [
    "taxi_workday = fe.get_workday_ratio(df_2015, 'm')"
   ]
  },
  {
   "cell_type": "code",
   "execution_count": 662,
   "metadata": {
    "ExecuteTime": {
     "end_time": "2018-09-25T05:10:37.545540Z",
     "start_time": "2018-09-25T05:10:37.424863Z"
    },
    "scrolled": true
   },
   "outputs": [
    {
     "data": {
      "text/html": [
       "<div>\n",
       "<style scoped>\n",
       "    .dataframe tbody tr th:only-of-type {\n",
       "        vertical-align: middle;\n",
       "    }\n",
       "\n",
       "    .dataframe tbody tr th {\n",
       "        vertical-align: top;\n",
       "    }\n",
       "\n",
       "    .dataframe thead th {\n",
       "        text-align: right;\n",
       "    }\n",
       "</style>\n",
       "<table border=\"1\" class=\"dataframe\">\n",
       "  <thead>\n",
       "    <tr style=\"text-align: right;\">\n",
       "      <th></th>\n",
       "      <th>total_workday0_1</th>\n",
       "      <th>total_workday1_1</th>\n",
       "      <th>total_workday0_2</th>\n",
       "      <th>total_workday1_2</th>\n",
       "      <th>total_workday0_3</th>\n",
       "      <th>total_workday1_3</th>\n",
       "      <th>total_workday0_4</th>\n",
       "      <th>total_workday1_4</th>\n",
       "      <th>total_workday0_5</th>\n",
       "      <th>total_workday1_5</th>\n",
       "      <th>...</th>\n",
       "      <th>total_workday0_8</th>\n",
       "      <th>total_workday1_8</th>\n",
       "      <th>total_workday0_9</th>\n",
       "      <th>total_workday1_9</th>\n",
       "      <th>total_workday0_10</th>\n",
       "      <th>total_workday1_10</th>\n",
       "      <th>total_workday0_11</th>\n",
       "      <th>total_workday1_11</th>\n",
       "      <th>total_workday0_12</th>\n",
       "      <th>total_workday1_12</th>\n",
       "    </tr>\n",
       "    <tr>\n",
       "      <th>taxi_id</th>\n",
       "      <th></th>\n",
       "      <th></th>\n",
       "      <th></th>\n",
       "      <th></th>\n",
       "      <th></th>\n",
       "      <th></th>\n",
       "      <th></th>\n",
       "      <th></th>\n",
       "      <th></th>\n",
       "      <th></th>\n",
       "      <th></th>\n",
       "      <th></th>\n",
       "      <th></th>\n",
       "      <th></th>\n",
       "      <th></th>\n",
       "      <th></th>\n",
       "      <th></th>\n",
       "      <th></th>\n",
       "      <th></th>\n",
       "      <th></th>\n",
       "      <th></th>\n",
       "    </tr>\n",
       "  </thead>\n",
       "  <tbody>\n",
       "    <tr>\n",
       "      <th>0</th>\n",
       "      <td>0.373343</td>\n",
       "      <td>0.626657</td>\n",
       "      <td>0.293112</td>\n",
       "      <td>0.706888</td>\n",
       "      <td>0.304491</td>\n",
       "      <td>0.695509</td>\n",
       "      <td>0.240146</td>\n",
       "      <td>0.759854</td>\n",
       "      <td>0.372947</td>\n",
       "      <td>0.627053</td>\n",
       "      <td>...</td>\n",
       "      <td>0.281634</td>\n",
       "      <td>0.718366</td>\n",
       "      <td>0.246722</td>\n",
       "      <td>0.753278</td>\n",
       "      <td>0.274600</td>\n",
       "      <td>0.725400</td>\n",
       "      <td>0.317475</td>\n",
       "      <td>0.682525</td>\n",
       "      <td>0.264856</td>\n",
       "      <td>0.735144</td>\n",
       "    </tr>\n",
       "    <tr>\n",
       "      <th>2</th>\n",
       "      <td>0.405899</td>\n",
       "      <td>0.594101</td>\n",
       "      <td>0.388433</td>\n",
       "      <td>0.611567</td>\n",
       "      <td>0.348705</td>\n",
       "      <td>0.651295</td>\n",
       "      <td>0.290809</td>\n",
       "      <td>0.709191</td>\n",
       "      <td>0.493586</td>\n",
       "      <td>0.506414</td>\n",
       "      <td>...</td>\n",
       "      <td>0.318806</td>\n",
       "      <td>0.681194</td>\n",
       "      <td>0.340216</td>\n",
       "      <td>0.659784</td>\n",
       "      <td>0.000000</td>\n",
       "      <td>0.000000</td>\n",
       "      <td>0.000000</td>\n",
       "      <td>0.000000</td>\n",
       "      <td>0.000000</td>\n",
       "      <td>0.000000</td>\n",
       "    </tr>\n",
       "    <tr>\n",
       "      <th>3</th>\n",
       "      <td>0.340192</td>\n",
       "      <td>0.659808</td>\n",
       "      <td>0.339264</td>\n",
       "      <td>0.660736</td>\n",
       "      <td>0.269043</td>\n",
       "      <td>0.730957</td>\n",
       "      <td>0.292378</td>\n",
       "      <td>0.707622</td>\n",
       "      <td>0.383141</td>\n",
       "      <td>0.616859</td>\n",
       "      <td>...</td>\n",
       "      <td>0.355419</td>\n",
       "      <td>0.644581</td>\n",
       "      <td>0.315233</td>\n",
       "      <td>0.684767</td>\n",
       "      <td>0.348511</td>\n",
       "      <td>0.651489</td>\n",
       "      <td>0.373050</td>\n",
       "      <td>0.626950</td>\n",
       "      <td>0.284856</td>\n",
       "      <td>0.715144</td>\n",
       "    </tr>\n",
       "  </tbody>\n",
       "</table>\n",
       "<p>3 rows × 24 columns</p>\n",
       "</div>"
      ],
      "text/plain": [
       "         total_workday0_1  total_workday1_1  total_workday0_2  \\\n",
       "taxi_id                                                         \n",
       "0                0.373343          0.626657          0.293112   \n",
       "2                0.405899          0.594101          0.388433   \n",
       "3                0.340192          0.659808          0.339264   \n",
       "\n",
       "         total_workday1_2  total_workday0_3  total_workday1_3  \\\n",
       "taxi_id                                                         \n",
       "0                0.706888          0.304491          0.695509   \n",
       "2                0.611567          0.348705          0.651295   \n",
       "3                0.660736          0.269043          0.730957   \n",
       "\n",
       "         total_workday0_4  total_workday1_4  total_workday0_5  \\\n",
       "taxi_id                                                         \n",
       "0                0.240146          0.759854          0.372947   \n",
       "2                0.290809          0.709191          0.493586   \n",
       "3                0.292378          0.707622          0.383141   \n",
       "\n",
       "         total_workday1_5        ...          total_workday0_8  \\\n",
       "taxi_id                          ...                             \n",
       "0                0.627053        ...                  0.281634   \n",
       "2                0.506414        ...                  0.318806   \n",
       "3                0.616859        ...                  0.355419   \n",
       "\n",
       "         total_workday1_8  total_workday0_9  total_workday1_9  \\\n",
       "taxi_id                                                         \n",
       "0                0.718366          0.246722          0.753278   \n",
       "2                0.681194          0.340216          0.659784   \n",
       "3                0.644581          0.315233          0.684767   \n",
       "\n",
       "         total_workday0_10  total_workday1_10  total_workday0_11  \\\n",
       "taxi_id                                                            \n",
       "0                 0.274600           0.725400           0.317475   \n",
       "2                 0.000000           0.000000           0.000000   \n",
       "3                 0.348511           0.651489           0.373050   \n",
       "\n",
       "         total_workday1_11  total_workday0_12  total_workday1_12  \n",
       "taxi_id                                                           \n",
       "0                 0.682525           0.264856           0.735144  \n",
       "2                 0.000000           0.000000           0.000000  \n",
       "3                 0.626950           0.284856           0.715144  \n",
       "\n",
       "[3 rows x 24 columns]"
      ]
     },
     "execution_count": 662,
     "metadata": {},
     "output_type": "execute_result"
    }
   ],
   "source": [
    "taxi_workday.head(3)"
   ]
  },
  {
   "cell_type": "code",
   "execution_count": 312,
   "metadata": {
    "ExecuteTime": {
     "end_time": "2018-09-25T03:18:15.895547Z",
     "start_time": "2018-09-25T03:18:15.409848Z"
    }
   },
   "outputs": [
    {
     "data": {
      "image/png": "[encoded data removed]",
      "text/plain": [
       "<Figure size 576x360 with 1 Axes>"
      ]
     },
     "metadata": {
      "needs_background": "light"
     },
     "output_type": "display_data"
    }
   ],
   "source": [
    "fig, ax = plt.subplots(1,1,figsize=(8,5))\n",
    "\n",
    "pd.DataFrame({\n",
    "    '0: Holidays': taxi_workday.iloc[:, [i for i in range(0, 24, 2)]].mean(axis=1),\n",
    "    '1: Workdays': taxi_workday.iloc[:, [i for i in range(1, 25, 2)]].mean(axis=1)\n",
    "}).plot.box(ax=ax)\n",
    "t = ax.set_title(\"2015 Chitaxi Workday/Holiday Percentage\", fontsize=14, fontweight=700)"
   ]
  },
  {
   "cell_type": "markdown",
   "metadata": {},
   "source": [
    "### 5.  Daytime/non-daytime trip_total percentage\n",
    "\n",
    "We are also expecting the daytime revenue should be slightly higher than the nighttime revenue. The empirical findings show that these two ratios are very close to each other. In addition, their distribution is more \"scattered\". We have some taxies mainly serve in night or day."
   ]
  },
  {
   "cell_type": "code",
   "execution_count": 313,
   "metadata": {
    "ExecuteTime": {
     "end_time": "2018-09-25T03:19:48.723944Z",
     "start_time": "2018-09-25T03:18:15.896543Z"
    }
   },
   "outputs": [],
   "source": [
    "taxi_daytime = fe.get_daytime_ratio(df_2015, 'm')"
   ]
  },
  {
   "cell_type": "code",
   "execution_count": 661,
   "metadata": {
    "ExecuteTime": {
     "end_time": "2018-09-25T05:10:25.198888Z",
     "start_time": "2018-09-25T05:10:25.080717Z"
    }
   },
   "outputs": [
    {
     "data": {
      "text/html": [
       "<div>\n",
       "<style scoped>\n",
       "    .dataframe tbody tr th:only-of-type {\n",
       "        vertical-align: middle;\n",
       "    }\n",
       "\n",
       "    .dataframe tbody tr th {\n",
       "        vertical-align: top;\n",
       "    }\n",
       "\n",
       "    .dataframe thead th {\n",
       "        text-align: right;\n",
       "    }\n",
       "</style>\n",
       "<table border=\"1\" class=\"dataframe\">\n",
       "  <thead>\n",
       "    <tr style=\"text-align: right;\">\n",
       "      <th></th>\n",
       "      <th>total_daytime0_1</th>\n",
       "      <th>total_daytime1_1</th>\n",
       "      <th>total_daytime0_2</th>\n",
       "      <th>total_daytime1_2</th>\n",
       "      <th>total_daytime0_3</th>\n",
       "      <th>total_daytime1_3</th>\n",
       "      <th>total_daytime0_4</th>\n",
       "      <th>total_daytime1_4</th>\n",
       "      <th>total_daytime0_5</th>\n",
       "      <th>total_daytime1_5</th>\n",
       "      <th>...</th>\n",
       "      <th>total_daytime0_8</th>\n",
       "      <th>total_daytime1_8</th>\n",
       "      <th>total_daytime0_9</th>\n",
       "      <th>total_daytime1_9</th>\n",
       "      <th>total_daytime0_10</th>\n",
       "      <th>total_daytime1_10</th>\n",
       "      <th>total_daytime0_11</th>\n",
       "      <th>total_daytime1_11</th>\n",
       "      <th>total_daytime0_12</th>\n",
       "      <th>total_daytime1_12</th>\n",
       "    </tr>\n",
       "    <tr>\n",
       "      <th>taxi_id</th>\n",
       "      <th></th>\n",
       "      <th></th>\n",
       "      <th></th>\n",
       "      <th></th>\n",
       "      <th></th>\n",
       "      <th></th>\n",
       "      <th></th>\n",
       "      <th></th>\n",
       "      <th></th>\n",
       "      <th></th>\n",
       "      <th></th>\n",
       "      <th></th>\n",
       "      <th></th>\n",
       "      <th></th>\n",
       "      <th></th>\n",
       "      <th></th>\n",
       "      <th></th>\n",
       "      <th></th>\n",
       "      <th></th>\n",
       "      <th></th>\n",
       "      <th></th>\n",
       "    </tr>\n",
       "  </thead>\n",
       "  <tbody>\n",
       "    <tr>\n",
       "      <th>0</th>\n",
       "      <td>0.847740</td>\n",
       "      <td>0.152260</td>\n",
       "      <td>0.474505</td>\n",
       "      <td>0.525495</td>\n",
       "      <td>0.506818</td>\n",
       "      <td>0.493182</td>\n",
       "      <td>0.516309</td>\n",
       "      <td>0.483691</td>\n",
       "      <td>0.499491</td>\n",
       "      <td>0.500509</td>\n",
       "      <td>...</td>\n",
       "      <td>0.273967</td>\n",
       "      <td>0.726033</td>\n",
       "      <td>0.449359</td>\n",
       "      <td>0.550641</td>\n",
       "      <td>0.507747</td>\n",
       "      <td>0.492253</td>\n",
       "      <td>0.624005</td>\n",
       "      <td>0.375995</td>\n",
       "      <td>0.379373</td>\n",
       "      <td>0.620627</td>\n",
       "    </tr>\n",
       "    <tr>\n",
       "      <th>2</th>\n",
       "      <td>0.373956</td>\n",
       "      <td>0.626044</td>\n",
       "      <td>0.423305</td>\n",
       "      <td>0.576695</td>\n",
       "      <td>0.527627</td>\n",
       "      <td>0.472373</td>\n",
       "      <td>0.564186</td>\n",
       "      <td>0.435814</td>\n",
       "      <td>0.814381</td>\n",
       "      <td>0.185619</td>\n",
       "      <td>...</td>\n",
       "      <td>0.208260</td>\n",
       "      <td>0.791740</td>\n",
       "      <td>0.247689</td>\n",
       "      <td>0.752311</td>\n",
       "      <td>0.000000</td>\n",
       "      <td>0.000000</td>\n",
       "      <td>0.000000</td>\n",
       "      <td>0.000000</td>\n",
       "      <td>0.000000</td>\n",
       "      <td>0.000000</td>\n",
       "    </tr>\n",
       "    <tr>\n",
       "      <th>3</th>\n",
       "      <td>0.484027</td>\n",
       "      <td>0.515973</td>\n",
       "      <td>0.450131</td>\n",
       "      <td>0.549869</td>\n",
       "      <td>0.481646</td>\n",
       "      <td>0.518354</td>\n",
       "      <td>0.434523</td>\n",
       "      <td>0.565477</td>\n",
       "      <td>0.466093</td>\n",
       "      <td>0.533907</td>\n",
       "      <td>...</td>\n",
       "      <td>0.430890</td>\n",
       "      <td>0.569110</td>\n",
       "      <td>0.394315</td>\n",
       "      <td>0.605685</td>\n",
       "      <td>0.465341</td>\n",
       "      <td>0.534659</td>\n",
       "      <td>0.465083</td>\n",
       "      <td>0.534917</td>\n",
       "      <td>0.443106</td>\n",
       "      <td>0.556894</td>\n",
       "    </tr>\n",
       "  </tbody>\n",
       "</table>\n",
       "<p>3 rows × 24 columns</p>\n",
       "</div>"
      ],
      "text/plain": [
       "         total_daytime0_1  total_daytime1_1  total_daytime0_2  \\\n",
       "taxi_id                                                         \n",
       "0                0.847740          0.152260          0.474505   \n",
       "2                0.373956          0.626044          0.423305   \n",
       "3                0.484027          0.515973          0.450131   \n",
       "\n",
       "         total_daytime1_2  total_daytime0_3  total_daytime1_3  \\\n",
       "taxi_id                                                         \n",
       "0                0.525495          0.506818          0.493182   \n",
       "2                0.576695          0.527627          0.472373   \n",
       "3                0.549869          0.481646          0.518354   \n",
       "\n",
       "         total_daytime0_4  total_daytime1_4  total_daytime0_5  \\\n",
       "taxi_id                                                         \n",
       "0                0.516309          0.483691          0.499491   \n",
       "2                0.564186          0.435814          0.814381   \n",
       "3                0.434523          0.565477          0.466093   \n",
       "\n",
       "         total_daytime1_5        ...          total_daytime0_8  \\\n",
       "taxi_id                          ...                             \n",
       "0                0.500509        ...                  0.273967   \n",
       "2                0.185619        ...                  0.208260   \n",
       "3                0.533907        ...                  0.430890   \n",
       "\n",
       "         total_daytime1_8  total_daytime0_9  total_daytime1_9  \\\n",
       "taxi_id                                                         \n",
       "0                0.726033          0.449359          0.550641   \n",
       "2                0.791740          0.247689          0.752311   \n",
       "3                0.569110          0.394315          0.605685   \n",
       "\n",
       "         total_daytime0_10  total_daytime1_10  total_daytime0_11  \\\n",
       "taxi_id                                                            \n",
       "0                 0.507747           0.492253           0.624005   \n",
       "2                 0.000000           0.000000           0.000000   \n",
       "3                 0.465341           0.534659           0.465083   \n",
       "\n",
       "         total_daytime1_11  total_daytime0_12  total_daytime1_12  \n",
       "taxi_id                                                           \n",
       "0                 0.375995           0.379373           0.620627  \n",
       "2                 0.000000           0.000000           0.000000  \n",
       "3                 0.534917           0.443106           0.556894  \n",
       "\n",
       "[3 rows x 24 columns]"
      ]
     },
     "execution_count": 661,
     "metadata": {},
     "output_type": "execute_result"
    }
   ],
   "source": [
    "taxi_daytime.head(3)"
   ]
  },
  {
   "cell_type": "code",
   "execution_count": 314,
   "metadata": {
    "ExecuteTime": {
     "end_time": "2018-09-25T03:19:49.158741Z",
     "start_time": "2018-09-25T03:19:48.732881Z"
    }
   },
   "outputs": [
    {
     "data": {
      "image/png": "[encoded data removed]",
      "text/plain": [
       "<Figure size 576x360 with 1 Axes>"
      ]
     },
     "metadata": {
      "needs_background": "light"
     },
     "output_type": "display_data"
    }
   ],
   "source": [
    "fig, ax = plt.subplots(1,1,figsize=(8,5))\n",
    "\n",
    "pd.DataFrame({\n",
    "    '0: Night': taxi_daytime.iloc[:, [i for i in range(0, 24, 2)]].mean(axis=1),\n",
    "    '1: Day': taxi_daytime.iloc[:, [i for i in range(1, 25, 2)]].mean(axis=1)\n",
    "}).plot.box(ax=ax)\n",
    "\n",
    "t = ax.set_title(\"2015 Chitaxi Daytime/Night Percentage\", fontsize=14, fontweight=700)"
   ]
  },
  {
   "cell_type": "markdown",
   "metadata": {},
   "source": [
    "### 6. Quantiles of trip totals\n",
    "\n",
    "In this section, we also pulled quantiles (25%, 50%, 75%) from trips per driver per month, in the hope to capture more accurate shape of revenue flows when flattening the data from transaction level to monthly level.\n",
    "\n",
    "* The mean is higher than the median, influenced more by the high value trips.\n",
    "* Higher quantiles trips tend to be more volatile over months.\n",
    "* We observed similar drawdown in 75% quantiles, which is aligned with the total trips shape. It seems like they contribute more to the overall revenue's trends."
   ]
  },
  {
   "cell_type": "code",
   "execution_count": 315,
   "metadata": {
    "ExecuteTime": {
     "end_time": "2018-09-25T03:21:43.466889Z",
     "start_time": "2018-09-25T03:20:23.493400Z"
    }
   },
   "outputs": [],
   "source": [
    "taxi_q = fe.get_quantiles()"
   ]
  },
  {
   "cell_type": "code",
   "execution_count": 660,
   "metadata": {
    "ExecuteTime": {
     "end_time": "2018-09-25T05:10:16.940817Z",
     "start_time": "2018-09-25T05:10:16.825132Z"
    }
   },
   "outputs": [
    {
     "data": {
      "text/html": [
       "<div>\n",
       "<style scoped>\n",
       "    .dataframe tbody tr th:only-of-type {\n",
       "        vertical-align: middle;\n",
       "    }\n",
       "\n",
       "    .dataframe tbody tr th {\n",
       "        vertical-align: top;\n",
       "    }\n",
       "\n",
       "    .dataframe thead th {\n",
       "        text-align: right;\n",
       "    }\n",
       "</style>\n",
       "<table border=\"1\" class=\"dataframe\">\n",
       "  <thead>\n",
       "    <tr style=\"text-align: right;\">\n",
       "      <th></th>\n",
       "      <th>total_25p_1</th>\n",
       "      <th>total_25p_2</th>\n",
       "      <th>total_25p_3</th>\n",
       "      <th>total_25p_4</th>\n",
       "      <th>total_25p_5</th>\n",
       "      <th>total_25p_6</th>\n",
       "      <th>total_25p_7</th>\n",
       "      <th>total_25p_8</th>\n",
       "      <th>total_25p_9</th>\n",
       "      <th>total_25p_10</th>\n",
       "      <th>...</th>\n",
       "      <th>total_mean_3</th>\n",
       "      <th>total_mean_4</th>\n",
       "      <th>total_mean_5</th>\n",
       "      <th>total_mean_6</th>\n",
       "      <th>total_mean_7</th>\n",
       "      <th>total_mean_8</th>\n",
       "      <th>total_mean_9</th>\n",
       "      <th>total_mean_10</th>\n",
       "      <th>total_mean_11</th>\n",
       "      <th>total_mean_12</th>\n",
       "    </tr>\n",
       "    <tr>\n",
       "      <th>taxi_id</th>\n",
       "      <th></th>\n",
       "      <th></th>\n",
       "      <th></th>\n",
       "      <th></th>\n",
       "      <th></th>\n",
       "      <th></th>\n",
       "      <th></th>\n",
       "      <th></th>\n",
       "      <th></th>\n",
       "      <th></th>\n",
       "      <th></th>\n",
       "      <th></th>\n",
       "      <th></th>\n",
       "      <th></th>\n",
       "      <th></th>\n",
       "      <th></th>\n",
       "      <th></th>\n",
       "      <th></th>\n",
       "      <th></th>\n",
       "      <th></th>\n",
       "      <th></th>\n",
       "    </tr>\n",
       "  </thead>\n",
       "  <tbody>\n",
       "    <tr>\n",
       "      <th>0</th>\n",
       "      <td>7.25</td>\n",
       "      <td>7.250</td>\n",
       "      <td>7.45</td>\n",
       "      <td>7.05</td>\n",
       "      <td>7.45</td>\n",
       "      <td>6.625</td>\n",
       "      <td>7.0500</td>\n",
       "      <td>6.65</td>\n",
       "      <td>6.9900</td>\n",
       "      <td>7.05</td>\n",
       "      <td>...</td>\n",
       "      <td>17.958590</td>\n",
       "      <td>16.492857</td>\n",
       "      <td>17.513403</td>\n",
       "      <td>11.202998</td>\n",
       "      <td>12.114668</td>\n",
       "      <td>12.227916</td>\n",
       "      <td>16.803380</td>\n",
       "      <td>15.598252</td>\n",
       "      <td>14.454750</td>\n",
       "      <td>11.364925</td>\n",
       "    </tr>\n",
       "    <tr>\n",
       "      <th>2</th>\n",
       "      <td>6.40</td>\n",
       "      <td>6.775</td>\n",
       "      <td>6.85</td>\n",
       "      <td>7.05</td>\n",
       "      <td>7.05</td>\n",
       "      <td>7.150</td>\n",
       "      <td>7.4525</td>\n",
       "      <td>6.75</td>\n",
       "      <td>7.2500</td>\n",
       "      <td>0.00</td>\n",
       "      <td>...</td>\n",
       "      <td>12.116844</td>\n",
       "      <td>11.744391</td>\n",
       "      <td>11.664006</td>\n",
       "      <td>12.603027</td>\n",
       "      <td>12.160812</td>\n",
       "      <td>10.492837</td>\n",
       "      <td>10.887633</td>\n",
       "      <td>0.000000</td>\n",
       "      <td>0.000000</td>\n",
       "      <td>0.000000</td>\n",
       "    </tr>\n",
       "    <tr>\n",
       "      <th>3</th>\n",
       "      <td>7.05</td>\n",
       "      <td>6.650</td>\n",
       "      <td>6.65</td>\n",
       "      <td>6.85</td>\n",
       "      <td>7.25</td>\n",
       "      <td>7.250</td>\n",
       "      <td>7.4500</td>\n",
       "      <td>7.25</td>\n",
       "      <td>7.0725</td>\n",
       "      <td>7.45</td>\n",
       "      <td>...</td>\n",
       "      <td>13.044647</td>\n",
       "      <td>15.191350</td>\n",
       "      <td>16.175433</td>\n",
       "      <td>15.563283</td>\n",
       "      <td>14.189750</td>\n",
       "      <td>14.758023</td>\n",
       "      <td>14.623016</td>\n",
       "      <td>14.218482</td>\n",
       "      <td>14.742979</td>\n",
       "      <td>14.272838</td>\n",
       "    </tr>\n",
       "  </tbody>\n",
       "</table>\n",
       "<p>3 rows × 48 columns</p>\n",
       "</div>"
      ],
      "text/plain": [
       "         total_25p_1  total_25p_2  total_25p_3  total_25p_4  total_25p_5  \\\n",
       "taxi_id                                                                    \n",
       "0               7.25        7.250         7.45         7.05         7.45   \n",
       "2               6.40        6.775         6.85         7.05         7.05   \n",
       "3               7.05        6.650         6.65         6.85         7.25   \n",
       "\n",
       "         total_25p_6  total_25p_7  total_25p_8  total_25p_9  total_25p_10  \\\n",
       "taxi_id                                                                     \n",
       "0              6.625       7.0500         6.65       6.9900          7.05   \n",
       "2              7.150       7.4525         6.75       7.2500          0.00   \n",
       "3              7.250       7.4500         7.25       7.0725          7.45   \n",
       "\n",
       "             ...        total_mean_3  total_mean_4  total_mean_5  \\\n",
       "taxi_id      ...                                                   \n",
       "0            ...           17.958590     16.492857     17.513403   \n",
       "2            ...           12.116844     11.744391     11.664006   \n",
       "3            ...           13.044647     15.191350     16.175433   \n",
       "\n",
       "         total_mean_6  total_mean_7  total_mean_8  total_mean_9  \\\n",
       "taxi_id                                                           \n",
       "0           11.202998     12.114668     12.227916     16.803380   \n",
       "2           12.603027     12.160812     10.492837     10.887633   \n",
       "3           15.563283     14.189750     14.758023     14.623016   \n",
       "\n",
       "         total_mean_10  total_mean_11  total_mean_12  \n",
       "taxi_id                                               \n",
       "0            15.598252      14.454750      11.364925  \n",
       "2             0.000000       0.000000       0.000000  \n",
       "3            14.218482      14.742979      14.272838  \n",
       "\n",
       "[3 rows x 48 columns]"
      ]
     },
     "execution_count": 660,
     "metadata": {},
     "output_type": "execute_result"
    }
   ],
   "source": [
    "taxi_q.head(3)"
   ]
  },
  {
   "cell_type": "code",
   "execution_count": 373,
   "metadata": {
    "ExecuteTime": {
     "end_time": "2018-09-25T03:37:48.451662Z",
     "start_time": "2018-09-25T03:37:48.191319Z"
    }
   },
   "outputs": [
    {
     "data": {
      "image/png": "[encoded data removed]",
      "text/plain": [
       "<Figure size 576x360 with 1 Axes>"
      ]
     },
     "metadata": {
      "needs_background": "light"
     },
     "output_type": "display_data"
    }
   ],
   "source": [
    "import datetime\n",
    "\n",
    "fig, ax = plt.subplots(1,1,figsize=(8,5))\n",
    "\n",
    "pd.DataFrame({\n",
    "    '.25p': taxi_q.iloc[:,:12].mean(axis=0).values,\n",
    "    '.50p': taxi_q.iloc[:,12:24].mean(axis=0).values,\n",
    "    '.75p': taxi_q.iloc[:,24:36].mean(axis=0).values,\n",
    "    'mean': taxi_q.iloc[:,36:].mean(axis=0).values,\n",
    "},index=pd.date_range(start='2015-01-01', end='2015-12-31', freq='M')).plot(ax=ax, ylim=(4, 17))\n",
    "\n",
    "ax.set_ylabel('dollar per trip')\n",
    "t = ax.set_title('2015 Chitaxi Revenue Per Trip Quantiles', fontsize=14, fontweight=700)"
   ]
  },
  {
   "cell_type": "markdown",
   "metadata": {
    "ExecuteTime": {
     "end_time": "2018-09-25T03:31:47.089306Z",
     "start_time": "2018-09-25T03:31:46.996573Z"
    }
   },
   "source": [
    "### 7. Maximum / Avg Trip Breaks\n",
    "\n",
    "In some web application's user behaviour analysis, it's important to look at users' `TIME_BETWEEN_SESSIONS` to predict if a user is a heavy user. \n",
    "\n",
    "Applying the similar idea, we calculated each taxi's average and maximum `TIME_BETWEEN_TRIPS` at hourly level.\n",
    "\n",
    "We made following assumptions to make the calculation easier:\n",
    "* If a taxi has only one trip in a month, we simply take it's maximum/average `TIME_BETWEEN_TRIPS` as half a month.\n",
    "* If a taxi has no trip at all in a month, we simply use 30 days to count its `TIME_BETWEEN_TRIPS`\n",
    "* We are using the time-difference between `trip_start_time` as `TIME_BETWEEN_TRIPS`, it will be more accurate to use `start_time` - `end_time`. (It may also be challenging as some trips have wrong/incorrect/missing `end_time` metric.\n",
    "\n",
    "Empirically, we observed most taxies are working frequently per month, with average `TIME_BETWEEN_TRIPS` less than 100 hours. On the other side tail, there are some taxis almost stopped running for more than half year."
   ]
  },
  {
   "cell_type": "code",
   "execution_count": 631,
   "metadata": {
    "ExecuteTime": {
     "end_time": "2018-09-25T05:04:12.569676Z",
     "start_time": "2018-09-25T05:00:56.816632Z"
    }
   },
   "outputs": [],
   "source": [
    "taxi_hrs = fe.get_break_hours(df_2015, 'm')"
   ]
  },
  {
   "cell_type": "code",
   "execution_count": 659,
   "metadata": {
    "ExecuteTime": {
     "end_time": "2018-09-25T05:10:04.566384Z",
     "start_time": "2018-09-25T05:10:04.458049Z"
    }
   },
   "outputs": [
    {
     "data": {
      "text/html": [
       "<div>\n",
       "<style scoped>\n",
       "    .dataframe tbody tr th:only-of-type {\n",
       "        vertical-align: middle;\n",
       "    }\n",
       "\n",
       "    .dataframe tbody tr th {\n",
       "        vertical-align: top;\n",
       "    }\n",
       "\n",
       "    .dataframe thead th {\n",
       "        text-align: right;\n",
       "    }\n",
       "</style>\n",
       "<table border=\"1\" class=\"dataframe\">\n",
       "  <thead>\n",
       "    <tr style=\"text-align: right;\">\n",
       "      <th></th>\n",
       "      <th>max_break_hrs_1</th>\n",
       "      <th>max_break_hrs_2</th>\n",
       "      <th>max_break_hrs_3</th>\n",
       "      <th>max_break_hrs_4</th>\n",
       "      <th>max_break_hrs_5</th>\n",
       "      <th>max_break_hrs_6</th>\n",
       "      <th>max_break_hrs_7</th>\n",
       "      <th>max_break_hrs_8</th>\n",
       "      <th>max_break_hrs_9</th>\n",
       "      <th>max_break_hrs_10</th>\n",
       "      <th>...</th>\n",
       "      <th>avg_break_hrs_3</th>\n",
       "      <th>avg_break_hrs_4</th>\n",
       "      <th>avg_break_hrs_5</th>\n",
       "      <th>avg_break_hrs_6</th>\n",
       "      <th>avg_break_hrs_7</th>\n",
       "      <th>avg_break_hrs_8</th>\n",
       "      <th>avg_break_hrs_9</th>\n",
       "      <th>avg_break_hrs_10</th>\n",
       "      <th>avg_break_hrs_11</th>\n",
       "      <th>avg_break_hrs_12</th>\n",
       "    </tr>\n",
       "    <tr>\n",
       "      <th>taxi_id</th>\n",
       "      <th></th>\n",
       "      <th></th>\n",
       "      <th></th>\n",
       "      <th></th>\n",
       "      <th></th>\n",
       "      <th></th>\n",
       "      <th></th>\n",
       "      <th></th>\n",
       "      <th></th>\n",
       "      <th></th>\n",
       "      <th></th>\n",
       "      <th></th>\n",
       "      <th></th>\n",
       "      <th></th>\n",
       "      <th></th>\n",
       "      <th></th>\n",
       "      <th></th>\n",
       "      <th></th>\n",
       "      <th></th>\n",
       "      <th></th>\n",
       "      <th></th>\n",
       "    </tr>\n",
       "  </thead>\n",
       "  <tbody>\n",
       "    <tr>\n",
       "      <th>0</th>\n",
       "      <td>40.0</td>\n",
       "      <td>23.0</td>\n",
       "      <td>33.0</td>\n",
       "      <td>42.0</td>\n",
       "      <td>68.0</td>\n",
       "      <td>14.0</td>\n",
       "      <td>168.0</td>\n",
       "      <td>48.0</td>\n",
       "      <td>70.0</td>\n",
       "      <td>14.0</td>\n",
       "      <td>...</td>\n",
       "      <td>2.0</td>\n",
       "      <td>2.0</td>\n",
       "      <td>2.0</td>\n",
       "      <td>1.0</td>\n",
       "      <td>2.0</td>\n",
       "      <td>2.0</td>\n",
       "      <td>1.0</td>\n",
       "      <td>1.0</td>\n",
       "      <td>2.0</td>\n",
       "      <td>2.0</td>\n",
       "    </tr>\n",
       "    <tr>\n",
       "      <th>2</th>\n",
       "      <td>20.0</td>\n",
       "      <td>49.0</td>\n",
       "      <td>35.0</td>\n",
       "      <td>23.0</td>\n",
       "      <td>24.0</td>\n",
       "      <td>18.0</td>\n",
       "      <td>73.0</td>\n",
       "      <td>39.0</td>\n",
       "      <td>37.0</td>\n",
       "      <td>720.0</td>\n",
       "      <td>...</td>\n",
       "      <td>3.0</td>\n",
       "      <td>2.0</td>\n",
       "      <td>4.0</td>\n",
       "      <td>2.0</td>\n",
       "      <td>3.0</td>\n",
       "      <td>2.0</td>\n",
       "      <td>3.0</td>\n",
       "      <td>720.0</td>\n",
       "      <td>720.0</td>\n",
       "      <td>720.0</td>\n",
       "    </tr>\n",
       "    <tr>\n",
       "      <th>3</th>\n",
       "      <td>40.0</td>\n",
       "      <td>48.0</td>\n",
       "      <td>57.0</td>\n",
       "      <td>19.0</td>\n",
       "      <td>42.0</td>\n",
       "      <td>19.0</td>\n",
       "      <td>23.0</td>\n",
       "      <td>22.0</td>\n",
       "      <td>19.0</td>\n",
       "      <td>22.0</td>\n",
       "      <td>...</td>\n",
       "      <td>2.0</td>\n",
       "      <td>2.0</td>\n",
       "      <td>2.0</td>\n",
       "      <td>2.0</td>\n",
       "      <td>2.0</td>\n",
       "      <td>2.0</td>\n",
       "      <td>2.0</td>\n",
       "      <td>2.0</td>\n",
       "      <td>2.0</td>\n",
       "      <td>3.0</td>\n",
       "    </tr>\n",
       "  </tbody>\n",
       "</table>\n",
       "<p>3 rows × 24 columns</p>\n",
       "</div>"
      ],
      "text/plain": [
       "         max_break_hrs_1  max_break_hrs_2  max_break_hrs_3  max_break_hrs_4  \\\n",
       "taxi_id                                                                       \n",
       "0                   40.0             23.0             33.0             42.0   \n",
       "2                   20.0             49.0             35.0             23.0   \n",
       "3                   40.0             48.0             57.0             19.0   \n",
       "\n",
       "         max_break_hrs_5  max_break_hrs_6  max_break_hrs_7  max_break_hrs_8  \\\n",
       "taxi_id                                                                       \n",
       "0                   68.0             14.0            168.0             48.0   \n",
       "2                   24.0             18.0             73.0             39.0   \n",
       "3                   42.0             19.0             23.0             22.0   \n",
       "\n",
       "         max_break_hrs_9  max_break_hrs_10        ...         avg_break_hrs_3  \\\n",
       "taxi_id                                           ...                           \n",
       "0                   70.0              14.0        ...                     2.0   \n",
       "2                   37.0             720.0        ...                     3.0   \n",
       "3                   19.0              22.0        ...                     2.0   \n",
       "\n",
       "         avg_break_hrs_4  avg_break_hrs_5  avg_break_hrs_6  avg_break_hrs_7  \\\n",
       "taxi_id                                                                       \n",
       "0                    2.0              2.0              1.0              2.0   \n",
       "2                    2.0              4.0              2.0              3.0   \n",
       "3                    2.0              2.0              2.0              2.0   \n",
       "\n",
       "         avg_break_hrs_8  avg_break_hrs_9  avg_break_hrs_10  avg_break_hrs_11  \\\n",
       "taxi_id                                                                         \n",
       "0                    2.0              1.0               1.0               2.0   \n",
       "2                    2.0              3.0             720.0             720.0   \n",
       "3                    2.0              2.0               2.0               2.0   \n",
       "\n",
       "         avg_break_hrs_12  \n",
       "taxi_id                    \n",
       "0                     2.0  \n",
       "2                   720.0  \n",
       "3                     3.0  \n",
       "\n",
       "[3 rows x 24 columns]"
      ]
     },
     "execution_count": 659,
     "metadata": {},
     "output_type": "execute_result"
    }
   ],
   "source": [
    "taxi_hrs.head(3)"
   ]
  },
  {
   "cell_type": "code",
   "execution_count": 655,
   "metadata": {
    "ExecuteTime": {
     "end_time": "2018-09-25T05:09:13.417673Z",
     "start_time": "2018-09-25T05:09:13.107320Z"
    }
   },
   "outputs": [
    {
     "data": {
      "image/png": "[encoded data removed]",
      "text/plain": [
       "<Figure size 864x360 with 2 Axes>"
      ]
     },
     "metadata": {
      "needs_background": "light"
     },
     "output_type": "display_data"
    }
   ],
   "source": [
    "fig, ax = plt.subplots(1,2, figsize=(12,5), sharey=True, sharex=True)\n",
    "\n",
    "taxi_hrs.iloc[:,:12].mean(axis=1).hist(ax=ax[0])\n",
    "ax[0].set_title(\"Maximum Time Between Two Trips Per Month\")\n",
    "taxi_hrs.iloc[:,12:].mean(axis=1).hist(ax=ax[1])\n",
    "ax[1].set_title(\"Average Time Between Two Trips Per Month\")\n",
    "ax[0].set_xlabel('Hours')\n",
    "ax[0].set_ylabel('Number of drivers')\n",
    "ax[1].set_xlabel('Hours')\n",
    "t=ax[1].set_ylabel('Number of drivers')"
   ]
  },
  {
   "cell_type": "markdown",
   "metadata": {},
   "source": [
    "## Merge All Features together\n",
    "\n",
    "In this section we simply wrap up what we have so far:\n",
    "\n",
    "* We have 7155 unique taxi in 2015\n",
    "* By aggregating metrics into months, we have 168 numerical features per taxi\n",
    "\n",
    "\n",
    "## Improvements:\n",
    "\n",
    "* We haven't used the `geo-coding` yet, potentially the locations at each trip's start point can give us more information regarding taxi's \"working area\"."
   ]
  },
  {
   "cell_type": "code",
   "execution_count": 679,
   "metadata": {
    "ExecuteTime": {
     "end_time": "2018-09-25T05:37:04.869873Z",
     "start_time": "2018-09-25T05:37:04.771139Z"
    }
   },
   "outputs": [],
   "source": [
    "features = [\n",
    "    taxi_count,\n",
    "    taxi_daytime,\n",
    "    taxi_hrs,\n",
    "    taxi_miles,\n",
    "    taxi_q,\n",
    "    taxi_seconds,\n",
    "    taxi_sum,\n",
    "    taxi_workday\n",
    "]\n",
    "\n",
    "from functools import reduce\n",
    "feature_final = reduce(lambda left,right: pd.merge(left,right,left_index=True,right_index=True,how='outer'), features)"
   ]
  },
  {
   "cell_type": "code",
   "execution_count": 705,
   "metadata": {
    "ExecuteTime": {
     "end_time": "2018-09-25T05:41:34.374970Z",
     "start_time": "2018-09-25T05:41:34.265264Z"
    }
   },
   "outputs": [
    {
     "data": {
      "text/plain": [
       "Index([], dtype='object')"
      ]
     },
     "execution_count": 705,
     "metadata": {},
     "output_type": "execute_result"
    }
   ],
   "source": [
    "# Check if any feature contains null values\n",
    "feature_final.columns[feature_final.isna().sum() > 0]"
   ]
  },
  {
   "cell_type": "code",
   "execution_count": 704,
   "metadata": {
    "ExecuteTime": {
     "end_time": "2018-09-25T05:41:32.545026Z",
     "start_time": "2018-09-25T05:41:32.447290Z"
    }
   },
   "outputs": [
    {
     "data": {
      "text/plain": [
       "(7155, 168)"
      ]
     },
     "execution_count": 704,
     "metadata": {},
     "output_type": "execute_result"
    }
   ],
   "source": [
    "feature_final.shape"
   ]
  },
  {
   "cell_type": "markdown",
   "metadata": {},
   "source": [
    "After a quick check, we have 7155 unique `taxi_id` in 2015, with 168 features. More investigations will be conducted in the following feature engineering section."
   ]
  },
  {
   "cell_type": "code",
   "execution_count": 711,
   "metadata": {
    "ExecuteTime": {
     "end_time": "2018-09-25T05:43:13.967212Z",
     "start_time": "2018-09-25T05:43:13.863490Z"
    }
   },
   "outputs": [
    {
     "data": {
      "text/html": [
       "<div>\n",
       "<style scoped>\n",
       "    .dataframe tbody tr th:only-of-type {\n",
       "        vertical-align: middle;\n",
       "    }\n",
       "\n",
       "    .dataframe tbody tr th {\n",
       "        vertical-align: top;\n",
       "    }\n",
       "\n",
       "    .dataframe thead th {\n",
       "        text-align: right;\n",
       "    }\n",
       "</style>\n",
       "<table border=\"1\" class=\"dataframe\">\n",
       "  <thead>\n",
       "    <tr style=\"text-align: right;\">\n",
       "      <th></th>\n",
       "      <th>count_1</th>\n",
       "      <th>count_2</th>\n",
       "      <th>count_3</th>\n",
       "      <th>count_4</th>\n",
       "      <th>count_5</th>\n",
       "      <th>count_6</th>\n",
       "      <th>count_7</th>\n",
       "      <th>count_8</th>\n",
       "      <th>count_9</th>\n",
       "      <th>count_10</th>\n",
       "      <th>...</th>\n",
       "      <th>total_workday0_8</th>\n",
       "      <th>total_workday1_8</th>\n",
       "      <th>total_workday0_9</th>\n",
       "      <th>total_workday1_9</th>\n",
       "      <th>total_workday0_10</th>\n",
       "      <th>total_workday1_10</th>\n",
       "      <th>total_workday0_11</th>\n",
       "      <th>total_workday1_11</th>\n",
       "      <th>total_workday0_12</th>\n",
       "      <th>total_workday1_12</th>\n",
       "    </tr>\n",
       "    <tr>\n",
       "      <th>taxi_id</th>\n",
       "      <th></th>\n",
       "      <th></th>\n",
       "      <th></th>\n",
       "      <th></th>\n",
       "      <th></th>\n",
       "      <th></th>\n",
       "      <th></th>\n",
       "      <th></th>\n",
       "      <th></th>\n",
       "      <th></th>\n",
       "      <th></th>\n",
       "      <th></th>\n",
       "      <th></th>\n",
       "      <th></th>\n",
       "      <th></th>\n",
       "      <th></th>\n",
       "      <th></th>\n",
       "      <th></th>\n",
       "      <th></th>\n",
       "      <th></th>\n",
       "      <th></th>\n",
       "    </tr>\n",
       "  </thead>\n",
       "  <tbody>\n",
       "    <tr>\n",
       "      <th>0</th>\n",
       "      <td>298.0</td>\n",
       "      <td>467.0</td>\n",
       "      <td>461.0</td>\n",
       "      <td>462.0</td>\n",
       "      <td>476.0</td>\n",
       "      <td>1064.0</td>\n",
       "      <td>587.0</td>\n",
       "      <td>667.0</td>\n",
       "      <td>645.0</td>\n",
       "      <td>778.0</td>\n",
       "      <td>...</td>\n",
       "      <td>0.281634</td>\n",
       "      <td>0.718366</td>\n",
       "      <td>0.246722</td>\n",
       "      <td>0.753278</td>\n",
       "      <td>0.274600</td>\n",
       "      <td>0.725400</td>\n",
       "      <td>0.317475</td>\n",
       "      <td>0.682525</td>\n",
       "      <td>0.264856</td>\n",
       "      <td>0.735144</td>\n",
       "    </tr>\n",
       "    <tr>\n",
       "      <th>2</th>\n",
       "      <td>635.0</td>\n",
       "      <td>382.0</td>\n",
       "      <td>469.0</td>\n",
       "      <td>517.0</td>\n",
       "      <td>352.0</td>\n",
       "      <td>598.0</td>\n",
       "      <td>382.0</td>\n",
       "      <td>765.0</td>\n",
       "      <td>169.0</td>\n",
       "      <td>0.0</td>\n",
       "      <td>...</td>\n",
       "      <td>0.318806</td>\n",
       "      <td>0.681194</td>\n",
       "      <td>0.340216</td>\n",
       "      <td>0.659784</td>\n",
       "      <td>0.000000</td>\n",
       "      <td>0.000000</td>\n",
       "      <td>0.000000</td>\n",
       "      <td>0.000000</td>\n",
       "      <td>0.000000</td>\n",
       "      <td>0.000000</td>\n",
       "    </tr>\n",
       "    <tr>\n",
       "      <th>3</th>\n",
       "      <td>445.0</td>\n",
       "      <td>474.0</td>\n",
       "      <td>609.0</td>\n",
       "      <td>526.0</td>\n",
       "      <td>497.0</td>\n",
       "      <td>533.0</td>\n",
       "      <td>560.0</td>\n",
       "      <td>511.0</td>\n",
       "      <td>504.0</td>\n",
       "      <td>560.0</td>\n",
       "      <td>...</td>\n",
       "      <td>0.355419</td>\n",
       "      <td>0.644581</td>\n",
       "      <td>0.315233</td>\n",
       "      <td>0.684767</td>\n",
       "      <td>0.348511</td>\n",
       "      <td>0.651489</td>\n",
       "      <td>0.373050</td>\n",
       "      <td>0.626950</td>\n",
       "      <td>0.284856</td>\n",
       "      <td>0.715144</td>\n",
       "    </tr>\n",
       "  </tbody>\n",
       "</table>\n",
       "<p>3 rows × 168 columns</p>\n",
       "</div>"
      ],
      "text/plain": [
       "         count_1  count_2  count_3  count_4  count_5  count_6  count_7  \\\n",
       "taxi_id                                                                  \n",
       "0          298.0    467.0    461.0    462.0    476.0   1064.0    587.0   \n",
       "2          635.0    382.0    469.0    517.0    352.0    598.0    382.0   \n",
       "3          445.0    474.0    609.0    526.0    497.0    533.0    560.0   \n",
       "\n",
       "         count_8  count_9  count_10        ...          total_workday0_8  \\\n",
       "taxi_id                                    ...                             \n",
       "0          667.0    645.0     778.0        ...                  0.281634   \n",
       "2          765.0    169.0       0.0        ...                  0.318806   \n",
       "3          511.0    504.0     560.0        ...                  0.355419   \n",
       "\n",
       "         total_workday1_8  total_workday0_9  total_workday1_9  \\\n",
       "taxi_id                                                         \n",
       "0                0.718366          0.246722          0.753278   \n",
       "2                0.681194          0.340216          0.659784   \n",
       "3                0.644581          0.315233          0.684767   \n",
       "\n",
       "         total_workday0_10  total_workday1_10  total_workday0_11  \\\n",
       "taxi_id                                                            \n",
       "0                 0.274600           0.725400           0.317475   \n",
       "2                 0.000000           0.000000           0.000000   \n",
       "3                 0.348511           0.651489           0.373050   \n",
       "\n",
       "         total_workday1_11  total_workday0_12  total_workday1_12  \n",
       "taxi_id                                                           \n",
       "0                 0.682525           0.264856           0.735144  \n",
       "2                 0.000000           0.000000           0.000000  \n",
       "3                 0.626950           0.284856           0.715144  \n",
       "\n",
       "[3 rows x 168 columns]"
      ]
     },
     "execution_count": 711,
     "metadata": {},
     "output_type": "execute_result"
    }
   ],
   "source": [
    "feature_final.head(3)"
   ]
  },
  {
   "cell_type": "code",
   "execution_count": 714,
   "metadata": {
    "ExecuteTime": {
     "end_time": "2018-09-25T05:49:19.829136Z",
     "start_time": "2018-09-25T05:49:19.644235Z"
    }
   },
   "outputs": [],
   "source": [
    "# feature_final.to_csv(\"features_2015.csv\", index=True)\n",
    "loader.save_as_feather(feature_final.reset_index(), '2015_features.feather')"
   ]
  },
  {
   "cell_type": "code",
   "execution_count": null,
   "metadata": {},
   "outputs": [],
   "source": []
  }
 ],
 "metadata": {
  "hide_input": false,
  "kernelspec": {
   "display_name": "chitaxi",
   "language": "python",
   "name": "chitaxi"
  },
  "language_info": {
   "codemirror_mode": {
    "name": "ipython",
    "version": 3
   },
   "file_extension": ".py",
   "mimetype": "text/x-python",
   "name": "python",
   "nbconvert_exporter": "python",
   "pygments_lexer": "ipython3",
   "version": "3.6.4"
  },
  "toc": {
   "base_numbering": 1,
   "nav_menu": {},
   "number_sections": false,
   "sideBar": true,
   "skip_h1_title": false,
   "title_cell": "Table of Contents",
   "title_sidebar": "Contents",
   "toc_cell": false,
   "toc_position": {
    "height": "calc(100% - 180px)",
    "left": "10px",
    "top": "150px",
    "width": "372px"
   },
   "toc_section_display": true,
   "toc_window_display": false
  }
 },
 "nbformat": 4,
 "nbformat_minor": 2
}
